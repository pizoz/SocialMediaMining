{
 "cells": [
  {
   "cell_type": "code",
   "execution_count": null,
   "metadata": {},
   "outputs": [],
   "source": [
    "\n",
    "def request_guilds(headers):\n",
    "    try:\n",
    "        request = httpx.get(\"https://discord.com/api/v9/users/@me/guilds\", headers=headers)\n",
    "        response = request.json()\n",
    "    except Exception as e:\n",
    "        print(e)\n",
    "\n",
    "    return response\n",
    "def request_channels(headers, guild_id):\n",
    "    try:\n",
    "        request = httpx.get(f\"https://discord.com/api/v9/guilds/{guild_id}/channels\", headers=headers)\n",
    "        response = request.json()\n",
    "    except Exception as e:\n",
    "        print(e)\n",
    "    return response\n",
    "def request_messages(headers, channel_id):\n",
    "    try:\n",
    "        request = httpx.get(f\"https://discord.com/api/v9/channels/{channel_id}/messages\", headers=headers)\n",
    "        response = request.json()\n",
    "    except Exception as e:\n",
    "        print(e)\n",
    "    return response\n",
    "def get_all_messages_RealTropea(headers,id):\n",
    "    messaggi = []\n",
    "    guilds = request_guilds(headers)\n",
    "    for guild in guilds:\n",
    "        if guild[\"id\"] == id:\n",
    "            channels = request_channels(headers, id)\n",
    "            for channel in channels:\n",
    "                messages = request_messages(headers, channel[\"id\"])\n",
    "                for m in messages:\n",
    "                    contenuto = m[\"content\"]\n",
    "                    if contenuto == \"\":\n",
    "                        with open(\"log.json\", \"a\") as f:\n",
    "                            json.dump(m, f, indent=4)\n",
    "                        continue\n",
    "                    autore = m[\"author\"][\"username\"]\n",
    "                    messaggi.append((autore, contenuto))\n",
    "    return messaggi\n",
    "\n",
    "def get_messages_dictionary(messages):\n",
    "    autori = {}\n",
    "    for m in messages:\n",
    "        if m[0] in autori:\n",
    "            autori[m[0]].append(m[1])\n",
    "        else:\n",
    "            autori[m[0]] = [m[1]]\n",
    "    return autori         \n",
    "            \n",
    "            "
   ]
  },
  {
   "cell_type": "code",
   "execution_count": null,
   "metadata": {},
   "outputs": [],
   "source": [
    "#make a dictionary with the author as the key all the messages as the value\n",
    "real_tropea = \"1115924583258783754\"\n",
    "# messaggi = get_all_messages_RealTropea(headers, real_tropea)\n",
    "channels = request_channels(headers, real_tropea)\n",
    "channels\n",
    "generale_messages = request_messages(headers, \"1115924583715967028\")\n",
    "\n",
    "# dizionario = get_messages_dictionary(messaggi)"
   ]
  },
  {
   "cell_type": "code",
   "execution_count": null,
   "metadata": {},
   "outputs": [],
   "source": [
    "thread_id = None\n",
    "for message in generale_messages:\n",
    "    if message[\"content\"] == \"Thread 1\":\n",
    "        thread_id = message[\"thread\"][\"id\"]\n",
    "        break\n",
    "thread_id"
   ]
  },
  {
   "cell_type": "code",
   "execution_count": null,
   "metadata": {},
   "outputs": [],
   "source": [
    "thread_messages = request_messages(headers, thread_id)\n",
    "thread_messages\n",
    "with open(\"thread.json\", \"w\") as f:\n",
    "    json.dump(thread_messages, f, indent=4)"
   ]
  },
  {
   "cell_type": "code",
   "execution_count": null,
   "metadata": {},
   "outputs": [],
   "source": [
    "print(dizionario)\n",
    "for k,v in dizionario.items():\n",
    "    print(f\"{k} ha scritto {len(v)} messaggi\")"
   ]
  },
  {
   "cell_type": "code",
   "execution_count": null,
   "metadata": {},
   "outputs": [],
   "source": [
    "def write_message(content,channel_id,headers,bot_messages):\n",
    "    try:\n",
    "        request = httpx.post(f\"https://discord.com/api/v9/channels/{channel_id}/messages\", headers=headers, data=json.dumps({\"content\":content}))\n",
    "        response = request.json()\n",
    "        bot_messages.append(response[\"id\"])\n",
    "        return response[\"id\"], bot_messages\n",
    "    except Exception as e:\n",
    "        print(e)\n",
    "    \n",
    "def delete_message(channel_id, message_id, headers):\n",
    "    try:\n",
    "        request = httpx.delete(f\"https://discord.com/api/v9/channels/{channel_id}/messages/{message_id}\", headers=headers)\n",
    "        response = request.json()\n",
    "        return response\n",
    "    except Exception as e:\n",
    "        print(e)"
   ]
  },
  {
   "cell_type": "code",
   "execution_count": null,
   "metadata": {},
   "outputs": [],
   "source": [
    "bot_messages = []"
   ]
  },
  {
   "cell_type": "code",
   "execution_count": null,
   "metadata": {},
   "outputs": [],
   "source": [
    "id,bot_messages = write_message(\"Porcodeddio il bruscone\", \"1231232961303810158\", headers,bot_messages)\n",
    "bot_messages"
   ]
  },
  {
   "cell_type": "code",
   "execution_count": null,
   "metadata": {},
   "outputs": [],
   "source": [
    "deleted = delete_message(\"1231232961303810158\", id, headers)\n",
    "deleted"
   ]
  },
  {
   "cell_type": "code",
   "execution_count": null,
   "metadata": {},
   "outputs": [],
   "source": [
    "def get_content_and_id(headers, channel_id):\n",
    "    try:\n",
    "        request = httpx.get(f\"https://discord.com/api/v9/channels/{channel_id}/messages\", headers=headers)\n",
    "        response = request.json()\n",
    "        messages = {}\n",
    "        for m in response:\n",
    "            messages[m[\"id\"]] = m[\"content\"]\n",
    "        return messages\n",
    "    except Exception as e:\n",
    "        print(e)\n",
    "bruscone_messages = get_content_and_id(headers, \"1231232961303810158\")"
   ]
  },
  {
   "cell_type": "code",
   "execution_count": null,
   "metadata": {},
   "outputs": [],
   "source": [
    "bruscone_messages"
   ]
  },
  {
   "cell_type": "code",
   "execution_count": null,
   "metadata": {},
   "outputs": [],
   "source": [
    "def delete_bot_messages(headers, channel_id, bot_messages):\n",
    "    for message in bot_messages:\n",
    "        delete_message(channel_id, message, headers)\n",
    "delete_bot_messages(headers, \"1231232961303810158\", bot_messages)"
   ]
  }
 ],
 "metadata": {
  "language_info": {
   "name": "python"
  }
 },
 "nbformat": 4,
 "nbformat_minor": 2
}
