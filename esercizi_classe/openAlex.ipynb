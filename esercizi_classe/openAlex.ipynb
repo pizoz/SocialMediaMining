{
 "cells": [
  {
   "cell_type": "markdown",
   "metadata": {},
   "source": [
    "Imports"
   ]
  },
  {
   "cell_type": "code",
   "execution_count": null,
   "metadata": {},
   "outputs": [],
   "source": [
    "import httpx\n",
    "import networkx as nx\n",
    "import time\n",
    "import sqlite3\n",
    "import pandas as pd\n",
    "import json\n",
    "import persistqueue"
   ]
  },
  {
   "cell_type": "markdown",
   "metadata": {},
   "source": [
    "Open Alex permette di accedere tramite API alle pubblicazioni e gli autori. Gli autori sono identificati da un ID"
   ]
  },
  {
   "cell_type": "code",
   "execution_count": null,
   "metadata": {},
   "outputs": [],
   "source": [
    "seed_author_id = 'A5035471624'\n",
    "\n",
    "# Funzione per ottenere tutte le pubblicazioni di un autore\n",
    "def getWorks(author_id):\n",
    "    publications = []\n",
    "    url = f\"https://api.openalex.org/works?filter=author.id:{author_id}&per_page=100\"\n",
    "    request = httpx.get(url)\n",
    "    works = request.json()\n",
    "    maximum = int(works[\"meta\"][\"count\"])\n",
    "    count = 2\n",
    "    while len(publications) < maximum:\n",
    "        for work in works[\"results\"]:\n",
    "            publications.append(work)\n",
    "        url = f\"https://api.openalex.org/works?filter=author.id:{author_id}&page={count}&per_page=100\"\n",
    "        request = httpx.get(url)\n",
    "        works = request.json()\n",
    "        count += 1\n",
    "    return publications\n",
    "\n"
   ]
  },
  {
   "cell_type": "code",
   "execution_count": null,
   "metadata": {},
   "outputs": [],
   "source": [
    "# funzione che dato un autore, restituisce i suoi collaboratori.\n",
    "# ciclando su tutte le pubblicazioni dell'autore, si estraggono gli autori di ogni pubblicazione che hanno quindi collaborato con l'autore\n",
    "def getCollaborators(author_id):\n",
    "    collaborators = set()\n",
    "    publications = getWorks(author_id)\n",
    "    for p in publications:\n",
    "        for author in p[\"authorships\"]:\n",
    "            id = author[\"author\"][\"id\"].split(\"/\")[-1]\n",
    "            collaborators.add(id)\n",
    "    return collaborators\n",
    "             \n",
    "#collaboratori = getCollaborators(seed_author_id)"
   ]
  },
  {
   "cell_type": "markdown",
   "metadata": {},
   "source": [
    "Esplorazione della rete"
   ]
  },
  {
   "cell_type": "code",
   "execution_count": null,
   "metadata": {},
   "outputs": [],
   "source": [
    "# Funzione che dato un autore, restituisce tutti i suoi collaboratori e i collaboratori dei collaboratori e cosi via. Moooolto lenta, esplora tutto il grafo\n",
    "def getAllCollaborators(author_id):\n",
    "    frontiera = [author_id]\n",
    "    visitati = set()\n",
    "    collaboratori_diz = dict()\n",
    "    while frontiera:\n",
    "        author_id = frontiera.pop(0)\n",
    "        collaboratori = getCollaborators(author_id)\n",
    "        collaboratori_diz[author_id] = collaboratori\n",
    "        for c in collaboratori:\n",
    "            if c not in collaboratori_diz:\n",
    "                frontiera.append(c)\n",
    "    return collaboratori_diz"
   ]
  },
  {
   "cell_type": "code",
   "execution_count": null,
   "metadata": {},
   "outputs": [],
   "source": [
    "#dizionario =   getAllCollaborators(seed_author_id)"
   ]
  },
  {
   "cell_type": "markdown",
   "metadata": {},
   "source": [
    "<h5>Un crawler o un Surfer permette di \"navigare\" tra gli autori. In pratica prende i parametri della rete (autore da cui partire, url a cui fare le richieste, un threshold (una profondità massima da non superare), la frontiera e l'insieme degli autori di cui conosco gia i collaboratori)</h5>\n",
    "\n",
    "</h5>Con il metodo crawl (gattonare) permettiamo al surfer di muoversi nel \"grafo\" degli autori. La parola chiave yield è un return che però non aspetta la fine dell'esecuzione. Appena ha una tupla da restituire lo fa. L'assegnamento va fatto come se fosse una lista, che avrà però lunghezza dinamica</h5>"
   ]
  },
  {
   "cell_type": "code",
   "execution_count": null,
   "metadata": {},
   "outputs": [],
   "source": [
    "class OpenAlexCrawler:\n",
    "    def __init__(self, author_id, BASE_URL, threshold = 2):\n",
    "        self.author_id = author_id\n",
    "        self.BASE_URL = BASE_URL\n",
    "        self.threshold = threshold\n",
    "        self.visited = set()\n",
    "        self.frontiera = [(self.author_id, 0)]\n",
    "        \n",
    "    def crawl(self):\n",
    "        while self.frontiera:\n",
    "            author_id, depth = self.frontiera.pop(0)\n",
    "            if depth < self.threshold:\n",
    "                collaboratori = self._getCollaborators(author_id)\n",
    "                for c in collaboratori:\n",
    "                    if c not in self.visited:\n",
    "                        self.frontiera.append((c, depth+1))\n",
    "                        self.visited.add(c)\n",
    "                    # restituisce una lista, ma un elemento per volta. Come se fosse uno streaming di dati\n",
    "                    yield(author_id, c)\n",
    "            \n",
    "            \n",
    "    \n",
    "    def _getCollaborators(self, author_id):\n",
    "        collaborators = set()\n",
    "        publications = self._getWorks(author_id)\n",
    "        for p in publications:\n",
    "            for author in p[\"authorships\"]:\n",
    "                id = author[\"author\"][\"id\"].split(\"/\")[-1]\n",
    "                if id != author_id:\n",
    "                    collaborators.add(id)\n",
    "        return collaborators\n",
    "    \n",
    "    def _getWorks(self, author_id):\n",
    "        publications = []\n",
    "        url = f\"{self.BASE_URL}{author_id}\"\n",
    "        request = httpx.get(url)\n",
    "        time.sleep(0.5)\n",
    "        try:\n",
    "            works = request.json()\n",
    "            for work in works[\"results\"]:\n",
    "                    publications.append(work)\n",
    "            \n",
    "        except Exception as e:\n",
    "            \n",
    "            print(\"Errore\", e)\n",
    "        return publications\n",
    "    \n",
    "    \n",
    "crawler = OpenAlexCrawler(seed_author_id, \"https://api.openalex.org/works?filter=author.id:\")\n",
    "g = nx.Graph()\n",
    "for source, destination in crawler.crawl():\n",
    "    g.add_edge(source, destination)"
   ]
  },
  {
   "cell_type": "code",
   "execution_count": null,
   "metadata": {},
   "outputs": [],
   "source": [
    "g.order(), g.size()"
   ]
  },
  {
   "cell_type": "code",
   "execution_count": null,
   "metadata": {},
   "outputs": [],
   "source": [
    "nx.write_gexf(g,\"collaborations.gexf\")"
   ]
  },
  {
   "cell_type": "markdown",
   "metadata": {},
   "source": [
    "Insieme (set) implementato però su un database. Cosi da conservare l'eseguzione della visita nel caso in cui crashi o si debba interrompere il processo"
   ]
  },
  {
   "cell_type": "code",
   "execution_count": null,
   "metadata": {},
   "outputs": [],
   "source": [
    "class SQLiteSet(object):\n",
    "    _TABLE_NAME = 'member'\n",
    "    _SQL_CREATE = (\n",
    "        'CREATE TABLE IF NOT EXISTS {table_name} ('\n",
    "        'element TEXT PRIMARY KEY)'\n",
    "    )\n",
    "    # Template per inserimento di un elemento nella tabella\n",
    "    _SQL_INSERT = 'INSERT INTO {table_name} (element) VALUES (?)'\n",
    "    # Template per la selezione di un elemento nella tabella\n",
    "    _SQL_SELECT_ID = (\n",
    "        'SELECT element FROM {table_name} WHERE'\n",
    "        ' element = \"{node_id}\"'\n",
    "    )\n",
    "    # Template per la rimozione di tutti gli elementi nella tabella\n",
    "    _SQL_DELETE = 'DELETE FROM {table_name}'\n",
    "\n",
    "    def __init__(self,path):\n",
    "        self.db_connect = sqlite3.connect(path)  # Apro la connessione con il db\n",
    "        self.db_connect.execute(self._SQL_CREATE.format(table_name = self._TABLE_NAME)) \n",
    "\n",
    "    def clear(self):\n",
    "        with self.db_connect:\n",
    "            self.db_connect.execute(self._SQL_DELETE.format(table_name = self._TABLE_NAME))\n",
    "\n",
    "    def add(self, node_id):\n",
    "        with self.db_connect:\n",
    "            try:\n",
    "                self.db_connect.execute(self._SQL_INSERT.format(table_name = self._TABLE_NAME),(node_id,))\n",
    "            except:\n",
    "                return None\n",
    "\n",
    "    def contains(self,node_id):\n",
    "        with self.db_connect:\n",
    "            res = list(self.db_connect.execute(self._SQL_SELECT_ID.format(table_name = self._TABLE_NAME, node_id = node_id)))\n",
    "            return len(res) > 0"
   ]
  },
  {
   "cell_type": "markdown",
   "metadata": {},
   "source": [
    "Surfer che utilizza DB. Salva quindi i nodi gli autori incontrati in una tabella del DB"
   ]
  },
  {
   "cell_type": "code",
   "execution_count": null,
   "metadata": {},
   "outputs": [],
   "source": [
    "import persistqueue.sqlqueue\n",
    "\n",
    "\n",
    "class OpenAlexSurferPersistent():\n",
    "    def __init__(self, author_id, BASE_URL=\"https://api.openalex.org/works?filter=author.id:\", threshold = 2, reset = True):\n",
    "        self.queue = persistqueue.sqlqueue.SQLiteQueue(\".\",db_file_name='surfer_2025.db',auto_commit=True)\n",
    "        self.visited = SQLiteSet(path='visited.db')\n",
    "        if reset:\n",
    "            self.visited.clear()\n",
    "            self._empty_queue()\n",
    "            self.queue.put((author_id, 0))\n",
    "        self.threshold = threshold\n",
    "        self.BASE_URL = BASE_URL\n",
    "        \n",
    "    def _empty_queue(self):\n",
    "        while not self.queue.empty():\n",
    "            self.queue.get()\n",
    "    \n",
    "    def _get_collaborators(self, author_id):\n",
    "        collaborators = set()\n",
    "        publications = self._get_works(author_id)\n",
    "        for p in publications:\n",
    "            for author in p[\"authorships\"]:\n",
    "                id = author[\"author\"][\"id\"].split(\"/\")[-1]\n",
    "                if id != author_id:\n",
    "                    collaborators.add(id)\n",
    "        return collaborators\n",
    "    def _get_works(self, author_id):\n",
    "        publications = []\n",
    "        url = f\"{self.BASE_URL}{author_id}\"\n",
    "        request = httpx.get(url)\n",
    "        time.sleep(0.5)\n",
    "        try:\n",
    "            works = request.json()\n",
    "            for work in works[\"results\"]:\n",
    "                    publications.append(work)\n",
    "        except Exception as e:\n",
    "            \n",
    "            print(\"Errore\", e)\n",
    "        return publications\n",
    "    def visit(self):\n",
    "        while not self.queue.empty():\n",
    "            author_id, depth = self.queue.get()\n",
    "            if depth < self.threshold:\n",
    "                collaborators = self._get_collaborators(author_id)\n",
    "                for c in collaborators:\n",
    "                    if not self.visited.contains(c):\n",
    "                        self.queue.put((c, depth+1))\n",
    "                        self.visited.add(c)\n",
    "                    yield (author_id, c)"
   ]
  },
  {
   "cell_type": "code",
   "execution_count": null,
   "metadata": {},
   "outputs": [],
   "source": [
    "surfer = OpenAlexSurferPersistent(seed_author_id)\n",
    "g = nx.Graph()\n",
    "for a,b in surfer.visit():\n",
    "    g.add_edge(a,b)\n",
    "    \n",
    "g.order(), g.size()"
   ]
  },
  {
   "cell_type": "code",
   "execution_count": null,
   "metadata": {},
   "outputs": [],
   "source": [
    "con = sqlite3.connect(\"visited.db\")\n",
    "df = pd.read_sql_query(\"SELECT * from member\", con)\n",
    "df"
   ]
  }
 ],
 "metadata": {
  "kernelspec": {
   "display_name": ".venv",
   "language": "python",
   "name": "python3"
  },
  "language_info": {
   "codemirror_mode": {
    "name": "ipython",
    "version": 3
   },
   "file_extension": ".py",
   "mimetype": "text/x-python",
   "name": "python",
   "nbconvert_exporter": "python",
   "pygments_lexer": "ipython3",
   "version": "3.12.6"
  }
 },
 "nbformat": 4,
 "nbformat_minor": 2
}
