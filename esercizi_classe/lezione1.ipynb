{
 "cells": [
  {
   "cell_type": "code",
   "execution_count": null,
   "metadata": {},
   "outputs": [],
   "source": [
    "import httpx\n",
    "from random import randint\n",
    "import json\n",
    "r = httpx.get(\"http://158.180.229.241:7550\")\n",
    "r.text\n",
    "\n",
    "\n",
    "query_params = {\n",
    "    'response_type': 'json'\n",
    "}\n",
    "\n",
    "risposta = httpx.get(\"http://158.180.229.241:7550/posts/post\", params=query_params).json()\n",
    "\n",
    "\n",
    "json.dump(risposta, open(\"output-onlinefiletools.json\",\"w\"))\n",
    "\n",
    "risposta_post = json.load(open(\"output-onlinefiletools.json\",\"r\"))\n"
   ]
  },
  {
   "cell_type": "code",
   "execution_count": null,
   "metadata": {},
   "outputs": [],
   "source": [
    "import httpx\n",
    "import json\n",
    "\n",
    "\"\"\"\n",
    "    Richiesta al server di autorizzazione per ottenere le client credentials\n",
    "    e salvataggio delle stesse in un file json\n",
    "\"\"\"\n",
    "\n",
    "url_server = \"http://158.180.229.241:7550\"\n",
    "client_credentials = httpx.put(f\"{url_server}/auth/register\", ).json()\n",
    "\n",
    "json.dump(client_credentials, open(\"client_credentials.json\",\"w\"))\n",
    "\n",
    "client_credentials = json.load(open(\"client_credentials.json\",\"r\"))"
   ]
  },
  {
   "cell_type": "code",
   "execution_count": null,
   "metadata": {},
   "outputs": [],
   "source": [
    "\"\"\"\n",
    "    Richiesta del token di accesso al server di autorizzazione\n",
    "\"\"\"\n",
    "auth_data = {'grant_type': 'client_credentials'}\n",
    "\n",
    "response_token_json = httpx.post(f\"{url_server}/auth/token\",\n",
    "                                 auth=(client_credentials['client_id'], client_credentials['client_secret']), \n",
    "                                 data=auth_data).json()\n",
    "\n",
    "access_token = response_token_json['access_token']\n",
    "json.dump(access_token, open(\"access_token.json\",\"w\"))\n"
   ]
  },
  {
   "cell_type": "code",
   "execution_count": null,
   "metadata": {},
   "outputs": [],
   "source": [
    "\"\"\"\n",
    "    Richiesta al server con l'access token per ottenere informazioni sui post\n",
    "\"\"\"\n",
    "\n",
    "\n",
    "header_auth = {'Authorization': f'Bearer {access_token}'}\n",
    "pechinoExpress_post = httpx.get(f\"{url_server}/posts/auth_post\", headers=header_auth).json()\n",
    "print(pechinoExpress_post)"
   ]
  },
  {
   "cell_type": "code",
   "execution_count": null,
   "metadata": {},
   "outputs": [],
   "source": [
    "# COMPITO\n",
    "# Studio delle definizioni di funzioni in Python"
   ]
  },
  {
   "cell_type": "code",
   "execution_count": null,
   "metadata": {},
   "outputs": [],
   "source": [
    "from googleapiclient.discovery import build\n",
    "import json\n",
    "\n",
    "with open(\"api_key.txt\",\"r\") as f:\n",
    "    api_key = f.read().strip()\n",
    "YOUTUBE_API_SERVICE_NAME = \"youtube\"\n",
    "YOUTUBE_API_VERSION = \"v3\"\n",
    "youtube = build(YOUTUBE_API_SERVICE_NAME, YOUTUBE_API_VERSION, developerKey=api_key)\n",
    "\n",
    "\n",
    "request = youtube.channels().list(\n",
    "    part=\"snippet,contentDetails,statistics\",\n",
    "    id=\"UCYO_jab_esuFRV4b17AJtAw\"\n",
    ")\n",
    "\n",
    "response = request.execute()\n",
    "\n",
    "print(response)"
   ]
  },
  {
   "cell_type": "code",
   "execution_count": null,
   "metadata": {},
   "outputs": [],
   "source": [
    "def benvenuto(nome, cognome, *args,**kwargs):\n",
    "    print(f\"Args e kwargs per {nome} {cognome}\")\n",
    "    print(\"Args\")\n",
    "    if args:\n",
    "        for a in args:\n",
    "            print(\" \",a)\n",
    "    print(\"Kwargs\")\n",
    "    if kwargs:\n",
    "        for kw in kwargs:\n",
    "            print(\" \",kw)\n",
    "\n",
    "benvenuto(\"Mario\",\"Rossi\")\n",
    "\n",
    "benvenuto(\"Mario\", \"Rossi\",par1 = [0,2,2],par2 = \"Stringa\")\n",
    "\n",
    "benvenuto(\"Mario\",\"Rossi\",\"blabla\",[437131],(3,4),par1 = [0,2,2],par2 = \"Stringa\")"
   ]
  },
  {
   "cell_type": "code",
   "execution_count": null,
   "metadata": {},
   "outputs": [],
   "source": [
    "import networkx as nx\n",
    "import matplotlib.pyplot as plt\n",
    "\n",
    "grafo = nx.read_edgelist(\"edge_list_example.txt\", create_using=nx.DiGraph)\n",
    "grafo2 = nx.complete_graph(4)\n",
    "nx.write_gml(grafo, \"grafo.gml\")\n",
    "nx.draw(grafo, with_labels=True)\n",
    "plt.show()\n",
    "nx.draw(grafo2, with_labels=True)\n",
    "\n",
    "random_net = nx.erdos_renyi_graph(grafo.nodes, 0.1)"
   ]
  }
 ],
 "metadata": {
  "kernelspec": {
   "display_name": ".venv",
   "language": "python",
   "name": "python3"
  },
  "language_info": {
   "codemirror_mode": {
    "name": "ipython",
    "version": 3
   },
   "file_extension": ".py",
   "mimetype": "text/x-python",
   "name": "python",
   "nbconvert_exporter": "python",
   "pygments_lexer": "ipython3",
   "version": "3.12.6"
  }
 },
 "nbformat": 4,
 "nbformat_minor": 2
}
