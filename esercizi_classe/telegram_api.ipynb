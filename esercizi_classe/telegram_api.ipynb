{
 "cells": [
  {
   "cell_type": "code",
   "execution_count": 1,
   "metadata": {},
   "outputs": [],
   "source": [
    "from telethon.sync import TelegramClient as TC\n",
    "from telethon import TelegramClient\n",
    "import telethon\n",
    "import json\n",
    "from PIL import Image\n",
    "from io import BytesIO\n",
    "import networkx as nx"
   ]
  },
  {
   "cell_type": "markdown",
   "metadata": {},
   "source": [
    "Reading app_id and hash"
   ]
  },
  {
   "cell_type": "code",
   "execution_count": 2,
   "metadata": {},
   "outputs": [],
   "source": [
    "\n",
    "with open(\"telegram_app_id.txt\") as f:\n",
    "    app_id = f.read().strip()\n",
    "with open(\"telegram_api_hash.txt\") as f:\n",
    "    app_hash = f.read().strip()\n"
   ]
  },
  {
   "cell_type": "markdown",
   "metadata": {},
   "source": [
    "Creating Telegram Client"
   ]
  },
  {
   "cell_type": "code",
   "execution_count": 3,
   "metadata": {},
   "outputs": [],
   "source": [
    "client = TC(\"anon\", app_id, app_hash)"
   ]
  },
  {
   "cell_type": "markdown",
   "metadata": {},
   "source": [
    "Getting Myself"
   ]
  },
  {
   "cell_type": "code",
   "execution_count": 4,
   "metadata": {},
   "outputs": [
    {
     "name": "stdout",
     "output_type": "stream",
     "text": [
      "Pizoz\n"
     ]
    }
   ],
   "source": [
    "async with client:\n",
    "    user = await client.get_me()\n",
    "    print(user.username)"
   ]
  },
  {
   "cell_type": "markdown",
   "metadata": {},
   "source": [
    "Getting Selected Group to analyse"
   ]
  },
  {
   "cell_type": "code",
   "execution_count": 5,
   "metadata": {},
   "outputs": [
    {
     "name": "stdout",
     "output_type": "stream",
     "text": [
      "<class 'telethon.tl.types.Channel'>\n",
      "Channel(\n",
      "\tid=1163643200,\n",
      "\ttitle='Prodigeek Official',\n",
      "\tphoto=ChatPhoto(\n",
      "\t\tphoto_id=6023591964085171127,\n",
      "\t\tdc_id=4,\n",
      "\t\thas_video=False,\n",
      "\t\tstripped_thumb=b'\\x01\\x08\\x08\\xd5\\xfd\\xe7\\x9aq\\xf7}\\xe8\\xa2\\x8a\\x05c'\n",
      "\t),\n",
      "\tdate=datetime.datetime(2025, 3, 14, 9, 38, 48, tzinfo=datetime.timezone.utc),\n",
      "\tcreator=False,\n",
      "\tleft=False,\n",
      "\tbroadcast=False,\n",
      "\tverified=False,\n",
      "\tmegagroup=True,\n",
      "\trestricted=False,\n",
      "\tsignatures=False,\n",
      "\tmin=False,\n",
      "\tscam=False,\n",
      "\thas_link=True,\n",
      "\thas_geo=False,\n",
      "\tslowmode_enabled=False,\n",
      "\tcall_active=False,\n",
      "\tcall_not_empty=False,\n",
      "\tfake=False,\n",
      "\tgigagroup=False,\n",
      "\tnoforwards=False,\n",
      "\tjoin_to_send=True,\n",
      "\tjoin_request=False,\n",
      "\tforum=False,\n",
      "\tstories_hidden=False,\n",
      "\tstories_hidden_min=False,\n",
      "\tstories_unavailable=True,\n",
      "\tsignature_profiles=False,\n",
      "\taccess_hash=2525691116672421276,\n",
      "\tusername=None,\n",
      "\trestriction_reason=[\n",
      "\t],\n",
      "\tadmin_rights=None,\n",
      "\tbanned_rights=None,\n",
      "\tdefault_banned_rights=ChatBannedRights(\n",
      "\t\tuntil_date=datetime.datetime(2038, 1, 19, 3, 14, 7, tzinfo=datetime.timezone.utc),\n",
      "\t\tview_messages=False,\n",
      "\t\tsend_messages=False,\n",
      "\t\tsend_media=False,\n",
      "\t\tsend_stickers=False,\n",
      "\t\tsend_gifs=False,\n",
      "\t\tsend_games=False,\n",
      "\t\tsend_inline=False,\n",
      "\t\tembed_links=False,\n",
      "\t\tsend_polls=False,\n",
      "\t\tchange_info=True,\n",
      "\t\tinvite_users=False,\n",
      "\t\tpin_messages=True,\n",
      "\t\tmanage_topics=True,\n",
      "\t\tsend_photos=False,\n",
      "\t\tsend_videos=False,\n",
      "\t\tsend_roundvideos=False,\n",
      "\t\tsend_audios=False,\n",
      "\t\tsend_voices=True,\n",
      "\t\tsend_docs=False,\n",
      "\t\tsend_plain=False\n",
      "\t),\n",
      "\tparticipants_count=None,\n",
      "\tusernames=[\n",
      "\t],\n",
      "\tstories_max_id=None,\n",
      "\tcolor=None,\n",
      "\tprofile_color=None,\n",
      "\temoji_status=None,\n",
      "\tlevel=None,\n",
      "\tsubscription_until_date=None,\n",
      "\tbot_verification_icon=None\n",
      ")\n"
     ]
    }
   ],
   "source": [
    "id_Prodigeek = 1163643200\n",
    "\n",
    "async with client:\n",
    "    prodigeek_group = await client.get_entity(id_Prodigeek)\n",
    "    print(type(prodigeek_group))\n",
    "print(prodigeek_group.stringify())"
   ]
  },
  {
   "cell_type": "markdown",
   "metadata": {},
   "source": [
    "Join Channel Request"
   ]
  },
  {
   "cell_type": "code",
   "execution_count": 6,
   "metadata": {},
   "outputs": [],
   "source": [
    "from telethon.tl.functions.channels import JoinChannelRequest\n",
    "async with client:\n",
    "    await client(JoinChannelRequest(prodigeek_group.id))\n"
   ]
  },
  {
   "cell_type": "markdown",
   "metadata": {},
   "source": [
    "Getting the Group Chat from client chats"
   ]
  },
  {
   "cell_type": "code",
   "execution_count": 7,
   "metadata": {},
   "outputs": [
    {
     "name": "stdout",
     "output_type": "stream",
     "text": [
      "-1001163643200\n"
     ]
    }
   ],
   "source": [
    "async with client:\n",
    "    dialogs = await client.get_dialogs()\n",
    "for dialog in dialogs:\n",
    "    if 'prodigeek official' == dialog.name.lower():\n",
    "        prodigeek_dialog = dialog\n",
    "        print(dialog.id)\n",
    "        break"
   ]
  },
  {
   "cell_type": "markdown",
   "metadata": {},
   "source": [
    "Getting N messages from the Group Chat"
   ]
  },
  {
   "cell_type": "code",
   "execution_count": 8,
   "metadata": {},
   "outputs": [],
   "source": [
    "group_messages = []\n",
    "\n",
    "async with client:\n",
    "    async for message in client.iter_messages(dialog, limit=3000):\n",
    "        group_messages.append(message)\n"
   ]
  },
  {
   "cell_type": "code",
   "execution_count": 23,
   "metadata": {},
   "outputs": [],
   "source": [
    "len(group_messages)\n",
    "\n",
    "\n",
    "def createMessageDict(messages):\n",
    "    # create a dictionary of messages\n",
    "    d = dict()\n",
    "    for m in messages:\n",
    "        d[m.id] = m\n",
    "    return d\n",
    "\n",
    "\n",
    "def get_msg_author(msg_obj):\n",
    "    # get the author of a message\n",
    "    if msg_obj != None:\n",
    "        if msg_obj.from_id and 'user_id' in msg_obj.from_id.__dict__:\n",
    "            return msg_obj.from_id.user_id\n",
    "        else:\n",
    "            return None\n",
    "    return None\n",
    "\n",
    "def usersFromMessages(messages):\n",
    "    # getting the users from the messages\n",
    "    users = set()\n",
    "    for m in messages:\n",
    "        user_id = get_msg_author(m)\n",
    "        if user_id != None:\n",
    "            users.add(user_id)\n",
    "    return users\n",
    "\n",
    "messages_dict = createMessageDict(group_messages)\n",
    "utenti = usersFromMessages(group_messages)"
   ]
  },
  {
   "cell_type": "code",
   "execution_count": 15,
   "metadata": {},
   "outputs": [
    {
     "data": {
      "text/plain": [
       "(267, 3000)"
      ]
     },
     "execution_count": 15,
     "metadata": {},
     "output_type": "execute_result"
    }
   ],
   "source": [
    "len(utenti), len(group_messages)"
   ]
  },
  {
   "cell_type": "markdown",
   "metadata": {},
   "source": [
    "Identifying messages without replies"
   ]
  },
  {
   "cell_type": "code",
   "execution_count": 10,
   "metadata": {},
   "outputs": [
    {
     "data": {
      "text/plain": [
       "856"
      ]
     },
     "execution_count": 10,
     "metadata": {},
     "output_type": "execute_result"
    }
   ],
   "source": [
    "\n",
    "def noReplyMessages(messages):\n",
    "    not_reply_message = []\n",
    "    for m in messages:\n",
    "        if m.reply_to == None:\n",
    "            not_reply_message.append(m.id)\n",
    "    return not_reply_message\n",
    "no_reply_messages = noReplyMessages(group_messages)\n",
    "len(no_reply_messages)"
   ]
  },
  {
   "cell_type": "markdown",
   "metadata": {},
   "source": [
    "Identify interactions between users who reply to each other and mapping them on a graph"
   ]
  },
  {
   "cell_type": "code",
   "execution_count": null,
   "metadata": {},
   "outputs": [],
   "source": [
    "\n",
    "def getRepliesList(messages):\n",
    "    replies_list = []\n",
    "    for m in messages:\n",
    "        # if the message is a reply to another message (even if it's not in the N messages) saving the message pair\n",
    "        if m.reply_to:\n",
    "            m_a = m.reply_to.reply_to_msg_id\n",
    "            m_b = m.id\n",
    "            replies_list.append((m_a, m_b))\n",
    "    return replies_list\n",
    "\n",
    "def getInteractionsGraph(replies_list):\n",
    "    G = nx.DiGraph()\n",
    "    for m_a, m_b in replies_list:\n",
    "        # getting the messages from the ids using the dictionary\n",
    "        msg_a = messages_dict.get(m_a)\n",
    "        msg_b = messages_dict.get(m_b)\n",
    "        # getting the authors of the messages\n",
    "        A, B = get_msg_author(msg_a), get_msg_author(msg_b)\n",
    "        if A != None and B != None:\n",
    "            # adding the edge to the graph\n",
    "            G.add_edge(B,A)\n",
    "    return G\n",
    "\n",
    "replies_list = getRepliesList(group_messages)\n",
    "msg_graph = getInteractionsGraph(replies_list)\n",
    "msg_graph.order(), msg_graph.size()\n",
    "nx.write_gexf(msg_graph, \"Prodigeek.gexf\")\n"
   ]
  },
  {
   "cell_type": "markdown",
   "metadata": {},
   "source": [
    "For each link between two users we provide the list of replies exchanged between them "
   ]
  },
  {
   "cell_type": "code",
   "execution_count": 12,
   "metadata": {},
   "outputs": [],
   "source": [
    "def addLinkInfo(G, messages_dict, replies_list):\n",
    "    for m_a, m_b in replies_list:\n",
    "        msg_a = messages_dict.get(m_a)\n",
    "        msg_b = messages_dict.get(m_b)\n",
    "        A, B = get_msg_author(msg_a), get_msg_author(msg_b)\n",
    "        if A is not None and B is not None and G.has_node(A) and G.has_node(B):\n",
    "            if 'messaggi' in G[B][A]:\n",
    "                G[B][A]['messaggi'].append((msg_b.message, msg_b.date))\n",
    "            else:\n",
    "                G[B][A]['messaggi'] = [(msg_b.message, msg_b.date)]\n",
    "    return G\n",
    "        \n",
    "msg_graph = addLinkInfo(msg_graph, messages_dict, replies_list)"
   ]
  },
  {
   "cell_type": "code",
   "execution_count": null,
   "metadata": {},
   "outputs": [],
   "source": [
    "from telethon.tl.functions.channels import GetParticipantsRequest\n",
    "from telethon.tl.types import ChannelParticipantsSearch, ChannelParticipantCreator\n",
    "\n",
    "async def getRoles(group_id):\n",
    "    roles = dict()\n",
    "    async with client:\n",
    "        participants = await client(GetParticipantsRequest(group_id, ChannelParticipantsSearch(''),0,50,hash=0))\n",
    "    \n",
    "    for p in participants.participants:\n",
    "        if type(p) == ChannelParticipantCreator:\n",
    "            roles[p.user_id] = \"Owner\"\n",
    "            continue\n",
    "        elif p.rank == None:\n",
    "            roles[p.user_id] = \"Admin\"\n",
    "            continue\n",
    "        roles[p.user_id] = p.rank\n",
    "    return roles\n",
    "roles = await getRoles(id_Prodigeek)\n",
    "\n",
    "        \n",
    "def addUserRoles(G, roles):\n",
    "    for node in G.nodes():\n",
    "        if node in roles:\n",
    "            G.nodes[node]['role'] = roles[node]\n",
    "        else:\n",
    "            G.nodes[node]['role'] = \"User\"\n",
    "    return G\n",
    "        \n",
    "msg_graph = addUserRoles(msg_graph, roles)\n"
   ]
  },
  {
   "cell_type": "code",
   "execution_count": 26,
   "metadata": {},
   "outputs": [
    {
     "name": "stdout",
     "output_type": "stream",
     "text": [
      "679488937 {'role': 'User'}\n",
      "796596281 {'role': 'User'}\n",
      "1540263137 {'role': 'User'}\n",
      "877555055 {'role': 'User'}\n",
      "545125709 {'role': 'User'}\n",
      "202830005 {'role': 'User'}\n",
      "147414742 {'role': 'User'}\n",
      "155278659 {'role': 'User'}\n",
      "1220749864 {'role': 'User'}\n",
      "7593210604 {'role': 'User'}\n",
      "144635900 {'role': 'User'}\n",
      "1109369959 {'role': 'User'}\n",
      "124421473 {'role': 'User'}\n",
      "626515711 {'role': 'User'}\n",
      "230869637 {'role': 'User'}\n",
      "6710129119 {'role': 'User'}\n",
      "927177782 {'role': 'User'}\n",
      "5788659229 {'role': 'User'}\n",
      "572151306 {'role': 'Moderatore'}\n",
      "539979445 {'role': 'User'}\n",
      "203797998 {'role': 'User'}\n",
      "288813584 {'role': 'User'}\n",
      "6457517907 {'role': 'User'}\n",
      "700862436 {'role': 'User'}\n",
      "1306025285 {'role': 'User'}\n",
      "193365423 {'role': 'User'}\n",
      "6161488800 {'role': 'User'}\n",
      "978092428 {'role': 'User'}\n",
      "1587460589 {'role': 'User'}\n",
      "86725266 {'role': 'User'}\n",
      "5965381639 {'role': 'User'}\n",
      "321622456 {'role': 'User'}\n",
      "71091322 {'role': 'User'}\n",
      "7000048094 {'role': 'User'}\n",
      "157902776 {'role': 'User'}\n",
      "1476482734 {'role': 'User'}\n",
      "132520499 {'role': 'User'}\n",
      "5774394 {'role': 'User'}\n",
      "149992970 {'role': 'User'}\n",
      "5960949486 {'role': 'User'}\n",
      "208568946 {'role': 'User'}\n",
      "871792592 {'role': 'Moderatore'}\n",
      "647584632 {'role': 'User'}\n",
      "372096346 {'role': 'User'}\n",
      "447723783 {'role': 'User'}\n",
      "326688288 {'role': 'User'}\n",
      "1160325333 {'role': 'User'}\n",
      "7899600786 {'role': 'User'}\n",
      "574110811 {'role': 'Admin'}\n",
      "633905595 {'role': 'User'}\n",
      "37361177 {'role': 'User'}\n",
      "915984033 {'role': 'User'}\n",
      "5776840375 {'role': 'User'}\n",
      "1392783551 {'role': 'User'}\n",
      "1155825550 {'role': 'User'}\n",
      "595026577 {'role': 'User'}\n",
      "970674331 {'role': 'User'}\n",
      "143632250 {'role': 'User'}\n",
      "643980743 {'role': 'User'}\n",
      "5710762474 {'role': 'User'}\n",
      "1435865991 {'role': 'User'}\n",
      "877979618 {'role': 'User'}\n",
      "938774637 {'role': 'User'}\n",
      "5145056220 {'role': 'User'}\n",
      "1016886224 {'role': 'User'}\n",
      "348963294 {'role': 'User'}\n",
      "389475025 {'role': 'User'}\n",
      "146388866 {'role': 'User'}\n",
      "6129137791 {'role': 'User'}\n",
      "242425380 {'role': 'User'}\n",
      "167891787 {'role': 'User'}\n",
      "5366178861 {'role': 'User'}\n",
      "707234943 {'role': 'User'}\n",
      "622493605 {'role': 'User'}\n",
      "905735275 {'role': 'User'}\n",
      "628069907 {'role': 'User'}\n",
      "273330153 {'role': 'User'}\n",
      "199685595 {'role': 'Admin'}\n",
      "765774617 {'role': 'User'}\n",
      "262721749 {'role': 'User'}\n",
      "462618632 {'role': 'User'}\n",
      "1294676907 {'role': 'User'}\n",
      "1081504186 {'role': 'User'}\n",
      "633786776 {'role': 'User'}\n",
      "97347103 {'role': 'User'}\n",
      "754654538 {'role': 'User'}\n",
      "7491473399 {'role': 'User'}\n",
      "1619572547 {'role': 'User'}\n",
      "1308270439 {'role': 'User'}\n",
      "135034118 {'role': 'User'}\n",
      "420631919 {'role': 'User'}\n",
      "7738142636 {'role': 'User'}\n",
      "851067156 {'role': 'User'}\n",
      "74886866 {'role': 'User'}\n",
      "165862460 {'role': 'User'}\n",
      "1027002596 {'role': 'User'}\n",
      "775810676 {'role': 'Admin'}\n",
      "6452862997 {'role': 'User'}\n",
      "1470644047 {'role': 'User'}\n",
      "461963026 {'role': 'User'}\n",
      "6169404471 {'role': 'User'}\n",
      "5854799531 {'role': 'User'}\n",
      "424153386 {'role': 'User'}\n",
      "911140394 {'role': 'User'}\n",
      "6920745986 {'role': 'User'}\n",
      "139398249 {'role': 'User'}\n",
      "1388072491 {'role': 'User'}\n",
      "13564711 {'role': 'Moderatore'}\n",
      "455910751 {'role': 'User'}\n",
      "890834805 {'role': 'User'}\n",
      "1071879762 {'role': 'User'}\n",
      "459601060 {'role': 'User'}\n",
      "962277067 {'role': 'User'}\n",
      "1441015963 {'role': 'User'}\n",
      "150997296 {'role': 'User'}\n",
      "361856833 {'role': 'User'}\n",
      "1187317641 {'role': 'User'}\n",
      "181226126 {'role': 'User'}\n",
      "1313567093 {'role': 'User'}\n",
      "872150727 {'role': 'User'}\n",
      "552924006 {'role': 'User'}\n",
      "833205393 {'role': 'Moderatore'}\n",
      "1417860274 {'role': 'User'}\n",
      "7003486193 {'role': 'User'}\n",
      "5003724106 {'role': 'User'}\n",
      "821664920 {'role': 'User'}\n",
      "180449098 {'role': 'User'}\n",
      "8106971140 {'role': 'User'}\n",
      "252102124 {'role': 'User'}\n",
      "1495847564 {'role': 'User'}\n",
      "6890817835 {'role': 'User'}\n",
      "848865238 {'role': 'User'}\n",
      "1063709736 {'role': 'User'}\n",
      "344854094 {'role': 'User'}\n",
      "262975777 {'role': 'Moderatore'}\n",
      "2130420283 {'role': 'User'}\n",
      "885913056 {'role': 'User'}\n",
      "527176513 {'role': 'User'}\n",
      "7585388306 {'role': 'User'}\n",
      "276494888 {'role': 'User'}\n",
      "652929481 {'role': 'User'}\n",
      "6657733257 {'role': 'User'}\n",
      "459623705 {'role': 'User'}\n",
      "5433362016 {'role': 'User'}\n",
      "832907109 {'role': 'User'}\n",
      "603486804 {'role': 'User'}\n",
      "6387683686 {'role': 'User'}\n",
      "6166722707 {'role': 'User'}\n",
      "979784049 {'role': 'User'}\n",
      "5662966123 {'role': 'User'}\n",
      "168275880 {'role': 'User'}\n",
      "143069213 {'role': 'User'}\n",
      "5950030248 {'role': 'User'}\n",
      "173053580 {'role': 'User'}\n",
      "421483548 {'role': 'Supermoderatore'}\n",
      "5381508749 {'role': 'User'}\n",
      "6417678372 {'role': 'User'}\n",
      "723206485 {'role': 'User'}\n",
      "2004893153 {'role': 'User'}\n",
      "6186720734 {'role': 'User'}\n",
      "658764928 {'role': 'User'}\n",
      "6917286790 {'role': 'User'}\n",
      "171963962 {'role': 'User'}\n",
      "7043521304 {'role': 'User'}\n",
      "1687076972 {'role': 'User'}\n",
      "659210625 {'role': 'User'}\n",
      "704210369 {'role': 'User'}\n",
      "140068585 {'role': 'User'}\n",
      "57494321 {'role': 'User'}\n",
      "5006794282 {'role': 'User'}\n",
      "2111789119 {'role': 'User'}\n",
      "642952832 {'role': 'User'}\n",
      "8128764244 {'role': 'User'}\n",
      "6120494011 {'role': 'User'}\n",
      "134859579 {'role': 'User'}\n",
      "12988966 {'role': 'User'}\n",
      "847082217 {'role': 'User'}\n",
      "6476046597 {'role': 'User'}\n",
      "7241464809 {'role': 'User'}\n",
      "300078409 {'role': 'User'}\n",
      "752208454 {'role': 'User'}\n",
      "6170685509 {'role': 'User'}\n",
      "77075661 {'role': 'User'}\n",
      "901271426 {'role': 'User'}\n",
      "998844959 {'role': 'User'}\n",
      "563847556 {'role': 'User'}\n",
      "6504561156 {'role': 'User'}\n",
      "1093421704 {'role': 'User'}\n",
      "849227613 {'role': 'User'}\n",
      "160393670 {'role': 'User'}\n",
      "6880324261 {'role': 'User'}\n",
      "1967780702 {'role': 'User'}\n",
      "77603486 {'role': 'User'}\n",
      "1614801202 {'role': 'User'}\n",
      "7942266287 {'role': 'User'}\n",
      "195978607 {'role': 'User'}\n",
      "8181269929 {'role': 'User'}\n",
      "700978067 {'role': 'User'}\n",
      "2014447248 {'role': 'User'}\n",
      "5399883108 {'role': 'User'}\n",
      "7455117118 {'role': 'User'}\n",
      "624535040 {'role': 'User'}\n",
      "138835925 {'role': 'User'}\n",
      "983183883 {'role': 'User'}\n",
      "739454392 {'role': 'User'}\n",
      "465711300 {'role': 'User'}\n",
      "6837123647 {'role': 'User'}\n",
      "54609800 {'role': 'User'}\n",
      "274493468 {'role': 'User'}\n",
      "1629866346 {'role': 'User'}\n",
      "5620870849 {'role': 'User'}\n",
      "516374268 {'role': 'User'}\n",
      "686508156 {'role': 'User'}\n",
      "1327134030 {'role': 'User'}\n",
      "370239867 {'role': 'User'}\n",
      "137452985 {'role': 'User'}\n",
      "979449666 {'role': 'User'}\n",
      "266987471 {'role': 'User'}\n",
      "1151200374 {'role': 'User'}\n",
      "934059214 {'role': 'User'}\n"
     ]
    }
   ],
   "source": [
    "\n",
    "for n, info in msg_graph.nodes(data=True):\n",
    "    print(n, info)"
   ]
  },
  {
   "cell_type": "code",
   "execution_count": 21,
   "metadata": {},
   "outputs": [
    {
     "name": "stdout",
     "output_type": "stream",
     "text": [
      "fanculo\n"
     ]
    }
   ],
   "source": [
    "dizionario = dict()\n",
    "\n",
    "if dizionario.get(\"ciao\"):\n",
    "    print(\"ciao\")\n",
    "else:\n",
    "    print(\"fanculo\")"
   ]
  }
 ],
 "metadata": {
  "kernelspec": {
   "display_name": ".venv",
   "language": "python",
   "name": "python3"
  },
  "language_info": {
   "codemirror_mode": {
    "name": "ipython",
    "version": 3
   },
   "file_extension": ".py",
   "mimetype": "text/x-python",
   "name": "python",
   "nbconvert_exporter": "python",
   "pygments_lexer": "ipython3",
   "version": "3.12.6"
  }
 },
 "nbformat": 4,
 "nbformat_minor": 2
}
