{
 "cells": [
  {
   "cell_type": "code",
   "execution_count": 2,
   "id": "9d336115",
   "metadata": {},
   "outputs": [],
   "source": [
    "from googleapiclient.discovery import build\n",
    "import csv\n",
    "import matplotlib.pyplot as plt\n",
    "from datetime import datetime, timedelta\n",
    "import scipy\n",
    "import networkx as nx\n",
    "from itertools import combinations\n",
    "import math\n",
    "import numpy as np\n",
    "from collections import defaultdict\n",
    "from statsmodels.distributions.empirical_distribution import ECDF"
   ]
  },
  {
   "cell_type": "code",
   "execution_count": 3,
   "id": "93943f4c",
   "metadata": {},
   "outputs": [],
   "source": [
    "channels = [\"Romeo Agresti\", \"Il BiancoNero\", \"Colpo Gobbo\",\"Luca Toselli\",\"lAngolodiKinoshi\"]"
   ]
  },
  {
   "cell_type": "code",
   "execution_count": 4,
   "id": "417c87f1",
   "metadata": {},
   "outputs": [],
   "source": [
    "class Comment:\n",
    "    def __init__(self, id, video_id, content, author,date, likes, reply_to_id=None):\n",
    "        self.id = id\n",
    "        self.video_id = video_id\n",
    "        self.content = content\n",
    "        self.author = author\n",
    "        self.date = date\n",
    "        self.likes = likes\n",
    "        self.reply_to_id = reply_to_id"
   ]
  },
  {
   "cell_type": "markdown",
   "id": "2e8946e4",
   "metadata": {},
   "source": [
    "Strutture ausiliarie"
   ]
  },
  {
   "cell_type": "code",
   "execution_count": 18,
   "id": "ff4cb9ac",
   "metadata": {},
   "outputs": [],
   "source": [
    "def video_id_to_channel(channels):\n",
    "    video_id_to_channel = defaultdict(str)\n",
    "    for channel in channels:\n",
    "        with open(f\"../progetto/video_ids_{channel}.csv\", \"r\") as csvfile:\n",
    "            reader = csv.reader(csvfile)\n",
    "            for row in reader:\n",
    "                video_id_to_channel[row[0]] = channel\n",
    "    return video_id_to_channel\n",
    "\n",
    "def channel_to_video_id(channels):\n",
    "    channel_to_video_id = defaultdict(str)\n",
    "    for channel in channels:\n",
    "        with open(f\"../progetto/video_ids_{channel}.csv\", \"r\") as csvfile:\n",
    "            reader = csv.reader(csvfile)\n",
    "            for row in reader:\n",
    "                if channel not in channel_to_video_id:\n",
    "                    channel_to_video_id[channel] = []\n",
    "                channel_to_video_id[channel].append(row[0])\n",
    "    return channel_to_video_id\n",
    "\n",
    "def video_id_to_commenters(channels):\n",
    "    video_id_to_commenters = defaultdict(str)\n",
    "    for channel in channels:\n",
    "        with open(f\"../progetto/comments_{channel}.csv\", \"r\", encoding='utf-8') as csvfile:\n",
    "            reader = csv.DictReader(csvfile)\n",
    "            for row in reader:\n",
    "                video_id = row[\"Video ID\"]\n",
    "                author = row[\"Author\"]\n",
    "                if video_id not in video_id_to_commenters:\n",
    "                    video_id_to_commenters[video_id] = set()\n",
    "                video_id_to_commenters[video_id].add(author)\n",
    "    return video_id_to_commenters\n",
    "\n",
    "def channel_to_commenters(channels):\n",
    "    channel_to_commenters = defaultdict(str)\n",
    "    for channel in channels:\n",
    "        with open(f\"../progetto/comments_{channel}.csv\", \"r\", encoding='utf-8') as csvfile:\n",
    "            reader = csv.DictReader(csvfile)\n",
    "            for row in reader:\n",
    "                if channel not in channel_to_commenters:\n",
    "                    channel_to_commenters[channel] = set()\n",
    "                channel_to_commenters[channel].add(row[\"Author\"])\n",
    "    return channel_to_commenters\n",
    "\n",
    "def user_to_video_id(channels):\n",
    "    user_to_video_id = defaultdict(str)\n",
    "    for channel in channels:\n",
    "        with open(f\"../progetto/comments_{channel}.csv\", \"r\", encoding='utf-8') as csvfile:\n",
    "            reader = csv.DictReader(csvfile)\n",
    "            for row in reader:\n",
    "                author = row[\"Author\"]\n",
    "                video_id = row[\"Video ID\"]\n",
    "                if author not in user_to_video_id:\n",
    "                    user_to_video_id[author] = set()\n",
    "                user_to_video_id[author].add(video_id)\n",
    "    return user_to_video_id\n",
    "\n",
    "def channel_to_comments(channels):\n",
    "    channel_to_comments = defaultdict(str)\n",
    "    for channel in channels:\n",
    "        with open(f\"../progetto/comments_{channel}.csv\", \"r\", encoding='utf-8') as csvfile:\n",
    "            reader = csv.DictReader(csvfile)\n",
    "            for row in reader:\n",
    "                Comment(row[\"Comment ID\"], row[\"Video ID\"], row[\"Content\"], row[\"Author\"], row[\"Date\"], row[\"Likes\"], row[\"Reply To ID\"])\n",
    "                if channel not in channel_to_comments:\n",
    "                    channel_to_comments[channel] = []\n",
    "                channel_to_comments[channel].append(Comment(row[\"Comment ID\"], row[\"Video ID\"], row[\"Content\"], row[\"Author\"], row[\"Date\"], row[\"Likes\"], row[\"Reply To ID\"]))\n",
    "    return channel_to_comments\n",
    "\n",
    "def video_to_date(channels):\n",
    "    video_to_date = defaultdict(str)\n",
    "    for channel in channels:\n",
    "        with open(f\"../progetto/video_ids_{channel}.csv\", \"r\") as csvfile:\n",
    "            reader = csv.reader(csvfile)\n",
    "            for row in reader:\n",
    "                video_to_date[row[0]] = row[1]\n",
    "    return video_to_date\n",
    "\n",
    "def commenter_to_channels(channels):\n",
    "    commenter_to_channels = defaultdict(str)\n",
    "    for channel in channels:\n",
    "        with open(f\"../progetto/comments_{channel}.csv\", \"r\", encoding='utf-8') as csvfile:\n",
    "            reader = csv.DictReader(csvfile)\n",
    "            for row in reader:\n",
    "                author = row[\"Author\"]\n",
    "                if author not in commenter_to_channels:\n",
    "                    commenter_to_channels[author] = set()\n",
    "                commenter_to_channels[author].add(channel)\n",
    "    return commenter_to_channels\n",
    "\n",
    "def comment_to_video_id(channels):\n",
    "    comment_to_video_id = defaultdict(str)\n",
    "    for channel in channels:\n",
    "        with open(f\"../progetto/comments_{channel}.csv\", \"r\", encoding='utf-8') as csvfile:\n",
    "            reader = csv.DictReader(csvfile)\n",
    "            for row in reader:\n",
    "                comment_to_video_id[row[\"Comment ID\"]] = row[\"Video ID\"]\n",
    "    return comment_to_video_id\n",
    "\n",
    "def video_to_views(channels):\n",
    "    video_to_views = defaultdict(int)\n",
    "    for channel in channels:\n",
    "        with open(f\"../progetto/video_ids_{channel}_with_views.csv\", \"r\") as csvfile:\n",
    "            reader = csv.DictReader(csvfile)\n",
    "            for row in reader:\n",
    "                video_id = row[\"Video ID\"]\n",
    "                views = int(row[\"Views\"])\n",
    "                video_to_views[video_id] = views\n",
    "    return video_to_views\n",
    "\n",
    "Channel_of = video_id_to_channel(channels)\n",
    "Videos_of = channel_to_video_id(channels)\n",
    "Commenters_of_video = video_id_to_commenters(channels)\n",
    "Commenters_of_channel = channel_to_commenters(channels)\n",
    "Videos_commented_by = user_to_video_id(channels)\n",
    "Channels_commented_by = commenter_to_channels(channels)\n",
    "Comments_of_channel = channel_to_comments(channels)\n",
    "Date_of_video = video_to_date(channels)\n",
    "Views_of_video = video_to_views(channels)"
   ]
  },
  {
   "cell_type": "markdown",
   "id": "21f2717f",
   "metadata": {},
   "source": [
    "Proiezione sui video"
   ]
  },
  {
   "cell_type": "code",
   "execution_count": null,
   "id": "b32e756d",
   "metadata": {},
   "outputs": [],
   "source": [
    "total_videos = []\n",
    "for channel in channels:\n",
    "    i = 0\n",
    "    for video_id in Videos_of[channel]:\n",
    "        total_videos.append(video_id)\n",
    "        i += 1    \n",
    "\n",
    "G = nx.Graph()\n",
    "\n",
    "for video1, video2 in combinations(total_videos, 2):\n",
    "    commenters1 = set(Commenters_of_video[video1])\n",
    "    commenters2 = set(Commenters_of_video[video2])\n",
    "    common_commenters = commenters1.intersection(commenters2)\n",
    "    if len(common_commenters) > 0:\n",
    "        G.add_edge(video1, video2, weight=len(common_commenters))\n",
    "for n in G.nodes:\n",
    "    G.nodes[n]['channel'] = Channel_of[n]\n",
    "    G.nodes[n]['date'] = Date_of_video[n]\n",
    "\n",
    "len(G.nodes), len(G.edges)\n",
    "nx.write_gexf(G,\"cocommentatori_1.gexf\")"
   ]
  },
  {
   "cell_type": "code",
   "execution_count": 19,
   "id": "63324838",
   "metadata": {},
   "outputs": [],
   "source": [
    "G = nx.read_gexf(\"../progetto/cocommentatori_1.gexf\")"
   ]
  },
  {
   "cell_type": "code",
   "execution_count": 20,
   "id": "fb29b108",
   "metadata": {},
   "outputs": [],
   "source": [
    "for n in G.nodes:\n",
    "    G.nodes[n]['views'] = Views_of_video[n]"
   ]
  },
  {
   "cell_type": "code",
   "execution_count": 48,
   "id": "2979da50",
   "metadata": {},
   "outputs": [],
   "source": [
    "import pandas as pd\n",
    "from scipy.stats import spearmanr, pearsonr\n",
    "from scipy.spatial.distance import jaccard\n",
    "\n",
    "# Calcolo della matrice di correlazione tra similarità Jaccard e differenza views\n",
    "def calculate_jaccard_views_correlation():\n",
    "    jaccard_similarities = []\n",
    "    view_differences = []\n",
    "    \n",
    "    # Per ogni edge nel grafo\n",
    "    for edge in G.edges(data=True):\n",
    "        node1, node2, data = edge\n",
    "        \n",
    "        # Calcolo similarità Jaccard sui commentatori\n",
    "        commenters1 = Commenters_of_video[node1]\n",
    "        commenters2 = Commenters_of_video[node2]\n",
    "        \n",
    "        intersection = len(commenters1.intersection(commenters2))\n",
    "        union = len(commenters1.union(commenters2))\n",
    "        jaccard_sim = intersection / union if union > 0 else 0\n",
    "        \n",
    "        views1 = Views_of_video[node1]\n",
    "        views2 = Views_of_video[node2]\n",
    "        view_diff = abs(views1 - views2)\n",
    "        \n",
    "        jaccard_similarities.append(jaccard_sim)\n",
    "        view_differences.append(view_diff)\n",
    "    \n",
    "    return jaccard_similarities, view_differences\n",
    "\n",
    "jaccard_sims, view_diffs = calculate_jaccard_views_correlation()\n",
    "\n"
   ]
  },
  {
   "cell_type": "code",
   "execution_count": 53,
   "id": "dda0fd88",
   "metadata": {},
   "outputs": [
    {
     "name": "stdout",
     "output_type": "stream",
     "text": [
      "=== Correlazione Similarità Jaccard vs Differenza Views ===\n",
      "Correlazione di Pearson: -0.1649\n",
      "P-value: 0.000000\n",
      "Numero di coppie analizzate: 3049663\n",
      "\n",
      "=== Statistiche Similarità Jaccard ===\n",
      "Media: 0.0178\n",
      "Mediana: 0.0128\n",
      "Min: 0.0006\n",
      "Max: 1.0000\n",
      "\n",
      "=== Statistiche Differenza Views ===\n",
      "Media: 11063\n",
      "Mediana: 7618\n",
      "Min: 0\n",
      "Max: 319228\n"
     ]
    },
    {
     "data": {
      "image/png": "[encoded data removed]",
      "text/plain": [
       "<Figure size 1000x600 with 1 Axes>"
      ]
     },
     "metadata": {},
     "output_type": "display_data"
    }
   ],
   "source": [
    "correlation, p_value = pearsonr(jaccard_sims, view_diffs)\n",
    "\n",
    "print(f\"=== Correlazione Similarità Jaccard vs Differenza Views ===\")\n",
    "print(f\"Correlazione di Pearson: {correlation:.4f}\")\n",
    "print(f\"P-value: {p_value:.6f}\")\n",
    "print(f\"Numero di coppie analizzate: {len(jaccard_sims)}\")\n",
    "\n",
    "# Statistiche descrittive\n",
    "print(f\"\\n=== Statistiche Similarità Jaccard ===\")\n",
    "print(f\"Media: {np.mean(jaccard_sims):.4f}\")\n",
    "print(f\"Mediana: {np.median(jaccard_sims):.4f}\")\n",
    "print(f\"Min: {np.min(jaccard_sims):.4f}\")\n",
    "print(f\"Max: {np.max(jaccard_sims):.4f}\")\n",
    "\n",
    "print(f\"\\n=== Statistiche Differenza Views ===\")\n",
    "print(f\"Media: {np.mean(view_diffs):.0f}\")\n",
    "print(f\"Mediana: {np.median(view_diffs):.0f}\")\n",
    "print(f\"Min: {np.min(view_diffs):.0f}\")\n",
    "print(f\"Max: {np.max(view_diffs):.0f}\")\n",
    "\n",
    "plt.figure(figsize=(10, 6))\n",
    "plt.scatter(jaccard_sims, view_diffs, alpha=0.6, s=20)\n",
    "plt.xlabel('Similarità Jaccard (Commentatori)', fontsize=12)\n",
    "plt.ylabel('Differenza Assoluta Views', fontsize=12)\n",
    "plt.title(f'Correlazione Jaccard vs Differenza Views\\n(r = {correlation:.4f}, p = {p_value:.6f})', fontsize=14)\n",
    "plt.grid(True, alpha=0.3)\n",
    "\n",
    "# z = np.polyfit(jaccard_sims, view_diffs, 1)\n",
    "# p = np.poly1d(z)\n",
    "# plt.plot(jaccard_sims, p(jaccard_sims), \"r--\", alpha=0.8, linewidth=2)\n",
    "\n",
    "plt.tight_layout()\n",
    "plt.show()"
   ]
  },
  {
   "cell_type": "markdown",
   "id": "fc9d3d9e",
   "metadata": {},
   "source": [
    "Community detection sui video attraverso Gephi"
   ]
  },
  {
   "cell_type": "code",
   "execution_count": 8,
   "id": "521a0531",
   "metadata": {},
   "outputs": [
    {
     "name": "stdout",
     "output_type": "stream",
     "text": [
      "Canale: Romeo Agresti\n",
      "  Community 0: 99.82%\n",
      "  Community 1: 0.18%\n",
      "\n",
      "Canale: Il BiancoNero\n",
      "  Community 0: 64.79%\n",
      "  Community 1: 20.71%\n",
      "  Community 2: 7.83%\n",
      "  Community 3: 6.21%\n",
      "  Community 4: 0.46%\n",
      "\n",
      "Canale: Colpo Gobbo\n",
      "  Community 1: 98.83%\n",
      "  Community 2: 0.34%\n",
      "  Community 3: 0.67%\n",
      "  Community 0: 0.17%\n",
      "\n",
      "Canale: Luca Toselli\n",
      "  Community 2: 99.40%\n",
      "  Community 0: 0.20%\n",
      "  Community 3: 0.20%\n",
      "  Community 1: 0.20%\n",
      "\n",
      "Canale: lAngolodiKinoshi\n",
      "  Community 3: 99.53%\n",
      "  Community 1: 0.32%\n",
      "  Community 2: 0.16%\n",
      "\n"
     ]
    }
   ],
   "source": [
    "results_dict = {}\n",
    "with open(\"../progetto/colonne.csv\", \"r\") as csvfile:\n",
    "    reader = csv.DictReader(csvfile)\n",
    "    headers = next(reader)\n",
    "    for row in reader:\n",
    "        channel = row[\"0\"]\n",
    "        modularity_class = row[\"modularity_class\"]\n",
    "        if channel not in results_dict:\n",
    "            results_dict[channel] = {}\n",
    "        if modularity_class not in results_dict[channel]:\n",
    "            results_dict[channel][modularity_class] = 0\n",
    "        results_dict[channel][modularity_class] += 1\n",
    "        \n",
    "percentage_dict = {}\n",
    "for channel, classes in results_dict.items():\n",
    "    total = sum(classes.values())\n",
    "    percentage_dict[channel] = {k: v / total * 100 for k, v in classes.items()}\n",
    "\n",
    "for channel, percentages in percentage_dict.items():\n",
    "    print(f\"Canale: {channel}\")\n",
    "    for modularity_class, percentage in percentages.items():\n",
    "        print(f\"  Community {modularity_class}: {percentage:.2f}%\")\n",
    "    print()\n"
   ]
  },
  {
   "cell_type": "code",
   "execution_count": 10,
   "id": "6b0fd5bd",
   "metadata": {},
   "outputs": [],
   "source": [
    "nx.write_gexf(G, \"../progetto/cocommentatori_con_modularity.gexf\")"
   ]
  },
  {
   "cell_type": "code",
   "execution_count": 26,
   "id": "6011de50",
   "metadata": {},
   "outputs": [
    {
     "name": "stdout",
     "output_type": "stream",
     "text": [
      "Grado medio: 1857.29\n",
      "Mediana: 2194.0\n",
      "Grado Minimo: 1\n",
      "Grado Massimo: 2946\n"
     ]
    }
   ],
   "source": [
    "degree = dict(G.degree())\n",
    "degree_list = list(degree.values())\n",
    "print(f'Grado medio: {np.mean(degree_list):.2f}')\n",
    "print(f'Mediana: {np.median(degree_list)}')\n",
    "print(f'Grado Minimo: {min(degree_list)}')\n",
    "print(f'Grado Massimo: {max(degree_list)}')"
   ]
  },
  {
   "cell_type": "markdown",
   "id": "c687de02",
   "metadata": {},
   "source": [
    "Caratteristiche della rete"
   ]
  },
  {
   "cell_type": "code",
   "execution_count": 25,
   "id": "20c513bf",
   "metadata": {},
   "outputs": [
    {
     "name": "stdout",
     "output_type": "stream",
     "text": [
      "3284 3049663\n",
      "Densità del grafo: 0.5657\n",
      "Coefficiente di clustering: 0.7955\n",
      "Coefficiente di clustering medio: 0.8142\n"
     ]
    }
   ],
   "source": [
    "print(len(G.nodes), len(G.edges))\n",
    "density = nx.density(G)\n",
    "print(f\"Densità del grafo: {density:.4f}\")\n",
    "clustering_coefficient = nx.transitivity(G)\n",
    "print(f\"Coefficiente di clustering: {clustering_coefficient:.4f}\")\n",
    "average_clustering_coefficient = nx.average_clustering(G)\n",
    "print(f\"Coefficiente di clustering medio: {average_clustering_coefficient:.4f}\")"
   ]
  },
  {
   "cell_type": "code",
   "execution_count": 27,
   "id": "0d5d2548",
   "metadata": {},
   "outputs": [
    {
     "data": {
      "text/plain": [
       "Text(0, 0.5, 'P(X>x)')"
      ]
     },
     "execution_count": 27,
     "metadata": {},
     "output_type": "execute_result"
    },
    {
     "data": {
      "image/png": "[encoded data removed]",
      "text/plain": [
       "<Figure size 800x400 with 1 Axes>"
      ]
     },
     "metadata": {},
     "output_type": "display_data"
    }
   ],
   "source": [
    "cdf_function = ECDF(degree_list)\n",
    "x = np.unique(degree_list)\n",
    "y = cdf_function(x)\n",
    "\n",
    "# Visualizzazione\n",
    "fig_cdf_function = plt.figure(figsize=(8,4))\n",
    "assi = fig_cdf_function.gca()\n",
    "assi.loglog(x,1-y,color = 'black', linestyle = '--', marker= 'o',ms = 5)\n",
    "assi.set_xlabel('Grado',size=15, weight = 'bold')\n",
    "assi.set_ylabel('P(X>x)',size=15, weight = 'bold')"
   ]
  },
  {
   "cell_type": "code",
   "execution_count": 13,
   "id": "169f35ac",
   "metadata": {},
   "outputs": [
    {
     "name": "stdout",
     "output_type": "stream",
     "text": [
      "Canale: Romeo Agresti\n",
      "  Media pesi con gli altri canali:  3.58\n",
      "  Media pesi stesso canale: 13.88\n",
      "Canale: Il BiancoNero\n",
      "  Media pesi con gli altri canali:  1.77\n",
      "  Media pesi stesso canale: 1.36\n",
      "Canale: Colpo Gobbo\n",
      "  Media pesi con gli altri canali:  3.82\n",
      "  Media pesi stesso canale: 10.77\n",
      "Canale: Luca Toselli\n",
      "  Media pesi con gli altri canali:  3.34\n",
      "  Media pesi stesso canale: 9.11\n",
      "Canale: lAngolodiKinoshi\n",
      "  Media pesi con gli altri canali:  2.92\n",
      "  Media pesi stesso canale: 5.89\n"
     ]
    }
   ],
   "source": [
    "media_pesi = 0\n",
    "media_pesi_stesso_canale = 0\n",
    "counter = 0\n",
    "\n",
    "for channel in channels:\n",
    "    media_pesi = 0\n",
    "    media_pesi_stesso_canale = 0\n",
    "    counter = 0\n",
    "    for edge in G.edges(data=True):\n",
    "        sorgente = edge[0]\n",
    "        destinazione = edge[1]\n",
    "        if G.nodes[sorgente]['channel'] == channel and G.nodes[destinazione]['channel'] == channel:\n",
    "            media_pesi_stesso_canale += edge[2]['weight']\n",
    "            counter += 1\n",
    "        elif (G.nodes[edge[0]]['channel'] == channel or G.nodes[edge[1]]['channel'] == channel) and not (G.nodes[edge[0]]['channel'] == channel and G.nodes[edge[1]]['channel'] == channel):\n",
    "            media_pesi += edge[2]['weight']\n",
    "    if counter > 0:\n",
    "        media_pesi_stesso_canale /= counter\n",
    "    else:\n",
    "        media_pesi_stesso_canale = 0\n",
    "    # count edges involving this channel but not both nodes in the same channel\n",
    "    total_other_edges = sum(\n",
    "        1 for edge in G.edges(data=True)\n",
    "        if (G.nodes[edge[0]]['channel'] == channel or G.nodes[edge[1]]['channel'] == channel)\n",
    "        and not (G.nodes[edge[0]]['channel'] == channel and G.nodes[edge[1]]['channel'] == channel)\n",
    "    )\n",
    "    if total_other_edges > 0:\n",
    "        media_pesi /= total_other_edges\n",
    "    else:\n",
    "        media_pesi = 0\n",
    "    print(f\"Canale: {channel}\")\n",
    "    print(f\"  Media pesi con gli altri canali: {media_pesi: .2f}\" )\n",
    "    print(f\"  Media pesi stesso canale:{media_pesi_stesso_canale: .2f}\" )"
   ]
  },
  {
   "cell_type": "code",
   "execution_count": null,
   "id": "b1340d6a",
   "metadata": {},
   "outputs": [
    {
     "name": "stdout",
     "output_type": "stream",
     "text": [
      "\n",
      "Modularità basata sui canali: 0.2211\n",
      "Moderata modularità: i canali mostrano una certa struttura comunitaria\n"
     ]
    }
   ],
   "source": [
    "# Calcolo della modularità basata sull'attributo 'channel'\n",
    "# La modularità misura quanto bene i canali formano comunità distinte\n",
    "\n",
    "channel_partition = {}\n",
    "for node in G.nodes():\n",
    "    channel = G.nodes[node]['channel']\n",
    "    if channel not in channel_partition:\n",
    "        channel_partition[channel] = []\n",
    "    channel_partition[channel].append(node)\n",
    "\n",
    "partition_list = [set(nodes) for nodes in channel_partition.values()]\n",
    "\n",
    "modularity_channel = nx.community.modularity(G, partition_list)\n",
    "print(f\"\\nModularità basata sui canali: {modularity_channel:.4f}\")"
   ]
  },
  {
   "cell_type": "code",
   "execution_count": null,
   "id": "0a101c29",
   "metadata": {},
   "outputs": [
    {
     "name": "stdout",
     "output_type": "stream",
     "text": [
      "\n",
      "=== Analisi delle connessioni ===\n",
      "Connessioni intra-canale: 726322\n",
      "Connessioni inter-canale: 2323341\n",
      "Percentuale intra-canale: 23.82%\n",
      "Percentuale inter-canale: 76.18%\n",
      "\n",
      "Peso medio connessioni intra-canale: 8.61\n",
      "Peso medio connessioni inter-canale: 3.16\n",
      "\n",
      "=== Matrice delle connessioni tra canali (peso totale) ===\n",
      "                      Romeo Agresti  Il BiancoNero    Colpo Gobbo   Luca TosellilAngolodiKinosh\n",
      "Romeo Agresti               2249111         556757        1568855         865989         985523\n",
      "Il BiancoNero                556757         140315         355810         184002         204265\n",
      "Colpo Gobbo                 1568855         355810        1776185         894511        1021070\n",
      "Luca Toselli                 865989         184002         894511         969715         708246\n",
      "lAngolodiKinoshi             985523         204265        1021070         708246        1119696\n"
     ]
    }
   ],
   "source": [
    "intra_channel_edges = 0\n",
    "inter_channel_edges = 0\n",
    "intra_channel_weights = []\n",
    "inter_channel_weights = []\n",
    "\n",
    "for edge in G.edges(data=True):\n",
    "    node1, node2, data = edge\n",
    "    channel1 = G.nodes[node1]['channel']\n",
    "    channel2 = G.nodes[node2]['channel']\n",
    "    weight = data['weight']\n",
    "    \n",
    "    if channel1 == channel2:\n",
    "        intra_channel_edges += 1\n",
    "        intra_channel_weights.append(weight)\n",
    "    else:\n",
    "        inter_channel_edges += 1\n",
    "        inter_channel_weights.append(weight)\n",
    "\n",
    "print(f\"\\n=== Analisi delle connessioni ===\")\n",
    "print(f\"Connessioni intra-canale: {intra_channel_edges}\")\n",
    "print(f\"Connessioni inter-canale: {inter_channel_edges}\")\n",
    "print(f\"Percentuale intra-canale: {intra_channel_edges/(intra_channel_edges+inter_channel_edges)*100:.2f}%\")\n",
    "print(f\"Percentuale inter-canale: {inter_channel_edges/(intra_channel_edges+inter_channel_edges)*100:.2f}%\")\n",
    "\n",
    "if intra_channel_weights:\n",
    "    print(f\"\\nPeso medio connessioni intra-canale: {np.mean(intra_channel_weights):.2f}\")\n",
    "if inter_channel_weights:\n",
    "    print(f\"Peso medio connessioni inter-canale: {np.mean(inter_channel_weights):.2f}\")\n",
    "\n",
    "# Matrice di adiacenza tra canali\n",
    "channel_connections = {}\n",
    "for channel1 in channels:\n",
    "    channel_connections[channel1] = {}\n",
    "    for channel2 in channels:\n",
    "        channel_connections[channel1][channel2] = 0\n",
    "\n",
    "for edge in G.edges(data=True):\n",
    "    node1, node2, data = edge\n",
    "    channel1 = G.nodes[node1]['channel']\n",
    "    channel2 = G.nodes[node2]['channel']\n",
    "    weight = data['weight']\n",
    "    \n",
    "    channel_connections[channel1][channel2] += weight\n",
    "    if channel1 != channel2:\n",
    "        channel_connections[channel2][channel1] += weight\n",
    "\n",
    "print(f\"\\n=== Matrice delle connessioni tra canali (peso totale) ===\")\n",
    "print(f\"{'':20s}\", end=\"\")\n",
    "for channel in channels:\n",
    "    print(f\"{channel[:15]:>15s}\", end=\"\")\n",
    "print()\n",
    "\n",
    "for channel1 in channels:\n",
    "    print(f\"{channel1[:20]:20s}\", end=\"\")\n",
    "    for channel2 in channels:\n",
    "        print(f\"{channel_connections[channel1][channel2]:>15.0f}\", end=\"\")\n",
    "    print()"
   ]
  },
  {
   "cell_type": "code",
   "execution_count": null,
   "id": "f2e7b8b2",
   "metadata": {},
   "outputs": [
    {
     "name": "stdout",
     "output_type": "stream",
     "text": [
      "=== Peso medio delle connessioni tra coppie di canali ===\n",
      "                      Romeo Agresti  Il BiancoNero    Colpo Gobbo   Luca TosellilAngolodiKinosh\n",
      "Romeo Agresti                 13.88           2.02           5.35           3.85           3.12\n",
      "Il BiancoNero                  2.02           1.36           1.79           1.58           1.40\n",
      "Colpo Gobbo                    5.35           1.79          10.77           4.17           3.40\n",
      "Luca Toselli                   3.85           1.58           4.17           9.11           2.98\n",
      "lAngolodiKinoshi               3.12           1.40           3.40           2.98           5.89\n",
      "\n",
      "=== Analisi dettagliata connessioni inter-canale ===\n",
      "\n",
      "Romeo Agresti <-> Romeo Agresti:\n",
      "  Numero connessioni: 162049\n",
      "  Peso totale: 2249111.0\n",
      "  Peso medio: 13.88\n",
      "\n",
      "Romeo Agresti <-> Il BiancoNero:\n",
      "  Numero connessioni: 275650\n",
      "  Peso totale: 556757.0\n",
      "  Peso medio: 2.02\n",
      "\n",
      "Romeo Agresti <-> Colpo Gobbo:\n",
      "  Numero connessioni: 293277\n",
      "  Peso totale: 1568855.0\n",
      "  Peso medio: 5.35\n",
      "\n",
      "Romeo Agresti <-> Luca Toselli:\n",
      "  Numero connessioni: 225188\n",
      "  Peso totale: 865989.0\n",
      "  Peso medio: 3.85\n",
      "\n",
      "Romeo Agresti <-> lAngolodiKinoshi:\n",
      "  Numero connessioni: 315551\n",
      "  Peso totale: 985523.0\n",
      "  Peso medio: 3.12\n",
      "\n",
      "Il BiancoNero <-> Il BiancoNero:\n",
      "  Numero connessioni: 102906\n",
      "  Peso totale: 140315.0\n",
      "  Peso medio: 1.36\n",
      "\n",
      "Il BiancoNero <-> Colpo Gobbo:\n",
      "  Numero connessioni: 198492\n",
      "  Peso totale: 355810.0\n",
      "  Peso medio: 1.79\n",
      "\n",
      "Il BiancoNero <-> Luca Toselli:\n",
      "  Numero connessioni: 116538\n",
      "  Peso totale: 184002.0\n",
      "  Peso medio: 1.58\n",
      "\n",
      "Il BiancoNero <-> lAngolodiKinoshi:\n",
      "  Numero connessioni: 146121\n",
      "  Peso totale: 204265.0\n",
      "  Peso medio: 1.40\n",
      "\n",
      "Colpo Gobbo <-> Colpo Gobbo:\n",
      "  Numero connessioni: 164851\n",
      "  Peso totale: 1776185.0\n",
      "  Peso medio: 10.77\n",
      "\n",
      "Colpo Gobbo <-> Luca Toselli:\n",
      "  Numero connessioni: 214469\n",
      "  Peso totale: 894511.0\n",
      "  Peso medio: 4.17\n",
      "\n",
      "Colpo Gobbo <-> lAngolodiKinoshi:\n",
      "  Numero connessioni: 300050\n",
      "  Peso totale: 1021070.0\n",
      "  Peso medio: 3.40\n",
      "\n",
      "Luca Toselli <-> Luca Toselli:\n",
      "  Numero connessioni: 106500\n",
      "  Peso totale: 969715.0\n",
      "  Peso medio: 9.11\n",
      "\n",
      "Luca Toselli <-> lAngolodiKinoshi:\n",
      "  Numero connessioni: 238005\n",
      "  Peso totale: 708246.0\n",
      "  Peso medio: 2.98\n",
      "\n",
      "lAngolodiKinoshi <-> lAngolodiKinoshi:\n",
      "  Numero connessioni: 190016\n",
      "  Peso totale: 1119696.0\n",
      "  Peso medio: 5.89\n"
     ]
    }
   ],
   "source": [
    "connection_counts = {}\n",
    "for channel1 in channels:\n",
    "    connection_counts[channel1] = {}\n",
    "    for channel2 in channels:\n",
    "        connection_counts[channel1][channel2] = 0\n",
    "\n",
    "for edge in G.edges(data=True):\n",
    "    node1, node2, data = edge\n",
    "    channel1 = G.nodes[node1]['channel']\n",
    "    channel2 = G.nodes[node2]['channel']\n",
    "    \n",
    "    connection_counts[channel1][channel2] += 1\n",
    "\n",
    "average_weights = {}\n",
    "for channel1 in channels:\n",
    "    average_weights[channel1] = {}\n",
    "    for channel2 in channels:\n",
    "        total_weight = channel_connections[channel1][channel2]\n",
    "        num_connections = connection_counts[channel1][channel2]\n",
    "        \n",
    "        if num_connections > 0:\n",
    "            avg_weight = total_weight / num_connections\n",
    "            average_weights[channel1][channel2] = avg_weight\n",
    "        else:\n",
    "            average_weights[channel1][channel2] = 0.0\n",
    "\n",
    "print(\"=== Peso medio delle connessioni tra coppie di canali ===\")\n",
    "print(f\"{'':20s}\", end=\"\")\n",
    "for channel in channels:\n",
    "    print(f\"{channel[:15]:>15s}\", end=\"\")\n",
    "print()\n",
    "\n",
    "for channel1 in channels:\n",
    "    print(f\"{channel1[:20]:20s}\", end=\"\")\n",
    "    for channel2 in channels:\n",
    "        print(f\"{average_weights[channel1][channel2]:>15.2f}\", end=\"\")\n",
    "    print()\n",
    "\n",
    "print(\"\\n=== Analisi dettagliata connessioni inter-canale ===\")\n",
    "for i, channel1 in enumerate(channels):\n",
    "    for j, channel2 in enumerate(channels):\n",
    "        if i <= j:  # Evita duplicati (mostra solo triangolo superiore)\n",
    "            total_weight = channel_connections[channel1][channel2]\n",
    "            num_connections = connection_counts[channel1][channel2]\n",
    "            avg_weight = average_weights[channel1][channel2]\n",
    "            \n",
    "            print(f\"\\n{channel1} <-> {channel2}:\")\n",
    "            print(f\"  Numero connessioni: {num_connections}\")\n",
    "            print(f\"  Peso totale: {total_weight}\")\n",
    "            print(f\"  Peso medio: {avg_weight:.2f}\")\n"
   ]
  },
  {
   "cell_type": "code",
   "execution_count": 9,
   "id": "9a4ddea1",
   "metadata": {},
   "outputs": [
    {
     "name": "stdout",
     "output_type": "stream",
     "text": [
      "\n",
      "=== Connessioni per Romeo Agresti ===\n",
      "Romeo Agresti: 36.12%\n",
      "Il BiancoNero: 8.94%\n",
      "Colpo Gobbo: 25.20%\n",
      "Luca Toselli: 13.91%\n",
      "lAngolodiKinosh: 15.83%\n",
      "\n",
      "=== Connessioni per Il BiancoNero ===\n",
      "Romeo Agresti: 38.63%\n",
      "Il BiancoNero: 9.74%\n",
      "Colpo Gobbo: 24.69%\n",
      "Luca Toselli: 12.77%\n",
      "lAngolodiKinosh: 14.17%\n",
      "\n",
      "=== Connessioni per Colpo Gobbo ===\n",
      "Romeo Agresti: 27.93%\n",
      "Il BiancoNero: 6.34%\n",
      "Colpo Gobbo: 31.62%\n",
      "Luca Toselli: 15.93%\n",
      "lAngolodiKinosh: 18.18%\n",
      "\n",
      "=== Connessioni per Luca Toselli ===\n",
      "Romeo Agresti: 23.91%\n",
      "Il BiancoNero: 5.08%\n",
      "Colpo Gobbo: 24.69%\n",
      "Luca Toselli: 26.77%\n",
      "lAngolodiKinosh: 19.55%\n",
      "\n",
      "=== Connessioni per lAngolodiKinoshi ===\n",
      "Romeo Agresti: 24.40%\n",
      "Il BiancoNero: 5.06%\n",
      "Colpo Gobbo: 25.28%\n",
      "Luca Toselli: 17.54%\n",
      "lAngolodiKinosh: 27.72%\n"
     ]
    }
   ],
   "source": [
    "connessioni_BN = channel_connections[\"Il BiancoNero\"]\n",
    "total_connections_BN = sum(connessioni_BN.values())\n",
    "\n",
    "for channel in channels:\n",
    "    print(f\"\\n=== Connessioni per {channel} ===\")\n",
    "    connessionis = channel_connections[channel]\n",
    "    total_connections = sum(connessionis.values())\n",
    "    for channel1 in channels:\n",
    "        connessioni = connessionis[channel1]\n",
    "        percentuale = (connessioni / total_connections) * 100 if total_connections_BN > 0 else 0\n",
    "        print(f\"{channel1[:15]}: {percentuale:.2f}%\")\n",
    "        "
   ]
  },
  {
   "cell_type": "markdown",
   "id": "91c77f65",
   "metadata": {},
   "source": [
    "il 26% dei video del bianconero uniti a community di altri sono una collaborazione con il canale a cui è stato accorpato"
   ]
  },
  {
   "cell_type": "code",
   "execution_count": 22,
   "id": "ae1cc7b3",
   "metadata": {},
   "outputs": [
    {
     "name": "stdout",
     "output_type": "stream",
     "text": [
      "\n",
      "Coefficiente di assortatività basato sulle visualizzazioni: -0.0037\n",
      "La rete non mostra una forte tendenza assortativa o disassortativa.\n",
      "Coefficiente di assortatività basato sul grado: -0.0432\n",
      "La rete non mostra una forte tendenza assortativa o disassortativa.\n"
     ]
    }
   ],
   "source": [
    "# pearson correlation coefficient on views\n",
    "assortativity_views = nx.numeric_assortativity_coefficient(G, 'views')\n",
    "print(f\"\\nCoefficiente di assortatività basato sulle visualizzazioni: {assortativity_views:.4f}\")\n",
    "if assortativity_views > 0.1:\n",
    "    print(\"La rete mostra una tendenza assortativa (nodi simili si connettono).\")\n",
    "elif assortativity_views < -0.1:\n",
    "    print(\"La rete mostra una tendenza disassortativa (nodi dissimili si connettono).\")\n",
    "else:\n",
    "    print(\"La rete non mostra una forte tendenza assortativa o disassortativa.\")\n",
    "# pearson correlation coefficient on degree\n",
    "assortativity_degree = nx.degree_assortativity_coefficient(G)\n",
    "print(f\"Coefficiente di assortatività basato sul grado: {assortativity_degree:.4f}\")\n",
    "if assortativity_degree > 0.1:\n",
    "    print(\"La rete mostra una tendenza assortativa (nodi simili si connettono).\")\n",
    "elif assortativity_degree < -0.1:\n",
    "    print(\"La rete mostra una tendenza disassortativa (nodi dissimili si connettono).\")\n",
    "else:\n",
    "    print(\"La rete non mostra una forte tendenza assortativa o disassortativa.\")\n",
    "        \n"
   ]
  },
  {
   "cell_type": "markdown",
   "id": "7c151330",
   "metadata": {},
   "source": [
    "Proiezione sui commentatori"
   ]
  },
  {
   "cell_type": "code",
   "execution_count": null,
   "id": "600d3a0d",
   "metadata": {},
   "outputs": [],
   "source": [
    "G_utenti = nx.Graph()\n",
    "utenti = Videos_commented_by.keys()\n",
    "for user1, user2 in combinations(utenti, 2):\n",
    "    videos1 = Videos_commented_by[user1]\n",
    "    videos2 = Videos_commented_by[user2]\n",
    "    common_videos = videos1.intersection(videos2)\n",
    "    common_videos = common_videos.intersection(total_videos)\n",
    "    if len(common_videos) > 0:\n",
    "        G_utenti.add_edge(user1, user2, weight=len(common_videos))\n",
    "for n in G_utenti.nodes:\n",
    "    videos = Videos_commented_by[n]\n",
    "    if len(videos) == 1:\n",
    "        G_utenti.nodes[n]['video'] = videos.pop()\n",
    "       \n",
    "nx.write_gexf(G_utenti,\"co-commentatori_utenti_piu_grande_con_info.gexf\")"
   ]
  },
  {
   "cell_type": "code",
   "execution_count": 6,
   "id": "1672dfa2",
   "metadata": {},
   "outputs": [],
   "source": [
    "G_utenti = nx.read_gexf(\"../progetto/co-commentatori_utenti_piu_grande_con_info.gexf\")"
   ]
  },
  {
   "cell_type": "code",
   "execution_count": 13,
   "id": "feaa3806",
   "metadata": {},
   "outputs": [
    {
     "name": "stdout",
     "output_type": "stream",
     "text": [
      "Grado medio: 736.78\n",
      "Mediana: 484.0\n",
      "Grado Minimo: 3\n",
      "Grado Massimo: 7389\n"
     ]
    }
   ],
   "source": [
    "degree = dict(G_utenti.degree())\n",
    "degree_list = list(degree.values())\n",
    "print(f'Grado medio: {np.mean(degree_list):.2f}')\n",
    "print(f'Mediana: {np.median(degree_list)}')\n",
    "print(f'Grado Minimo: {min(degree_list)}')\n",
    "print(f'Grado Massimo: {max(degree_list)}')"
   ]
  },
  {
   "cell_type": "code",
   "execution_count": 14,
   "id": "960a133e",
   "metadata": {},
   "outputs": [
    {
     "data": {
      "text/plain": [
       "Text(0, 0.5, 'P(X>x)')"
      ]
     },
     "execution_count": 14,
     "metadata": {},
     "output_type": "execute_result"
    },
    {
     "data": {
      "image/png": "[encoded data removed]",
      "text/plain": [
       "<Figure size 800x400 with 1 Axes>"
      ]
     },
     "metadata": {},
     "output_type": "display_data"
    }
   ],
   "source": [
    "cdf_function = ECDF(degree_list)\n",
    "x = np.unique(degree_list)\n",
    "y = cdf_function(x)\n",
    "\n",
    "# Visualizzazione\n",
    "fig_cdf_function = plt.figure(figsize=(8,4))\n",
    "assi = fig_cdf_function.gca()\n",
    "assi.loglog(x,1-y,color = 'black', linestyle = '--', marker= 'o',ms = 5)\n",
    "assi.set_xlabel('Grado',size=15, weight = 'bold')\n",
    "assi.set_ylabel('P(X>x)',size=15, weight = 'bold')"
   ]
  },
  {
   "cell_type": "code",
   "execution_count": 17,
   "id": "53b88c29",
   "metadata": {},
   "outputs": [
    {
     "name": "stdout",
     "output_type": "stream",
     "text": [
      "11873 4373890\n",
      "Densità del grafo: 0.0621\n",
      "Coefficiente di clustering: 0.3951\n",
      "Coefficiente di clustering medio: 0.7857\n"
     ]
    }
   ],
   "source": [
    "print(len(G_utenti.nodes), len(G_utenti.edges))\n",
    "density = nx.density(G_utenti)\n",
    "print(f\"Densità del grafo: {density:.4f}\")\n",
    "average_clustering_coefficient = nx.average_clustering(G_utenti)\n",
    "clustering_coefficient = nx.transitivity(G_utenti)\n",
    "print(f\"Coefficiente di clustering: {clustering_coefficient:.4f}\")\n",
    "print(f\"Coefficiente di clustering medio: {average_clustering_coefficient:.4f}\")"
   ]
  },
  {
   "cell_type": "code",
   "execution_count": null,
   "id": "4a17856b",
   "metadata": {},
   "outputs": [
    {
     "data": {
      "image/png": "[encoded data removed]",
      "text/plain": [
       "<Figure size 1000x600 with 1 Axes>"
      ]
     },
     "metadata": {},
     "output_type": "display_data"
    }
   ],
   "source": [
    "histogram = nx.degree_histogram(G_utenti)\n",
    "plt.figure(figsize=(10, 6))\n",
    "plt.bar(range(len(histogram)), histogram, width=0.8, color='blue', alpha=0.7)\n",
    "plt.xlabel('Grado', fontsize=14)\n",
    "plt.ylabel('Frequenza', fontsize=14)\n",
    "plt.title('Istogramma dei Gradi dei Nodi Utente', fontsize=16)\n",
    "plt.xticks(range(len(histogram)))\n",
    "plt.xlim(0, len(histogram) - 1)\n",
    "plt.grid(axis='y', linestyle='--', alpha=0.7)\n",
    "plt.tight_layout()\n",
    "plt.show()"
   ]
  }
 ],
 "metadata": {
  "kernelspec": {
   "display_name": ".venv",
   "language": "python",
   "name": "python3"
  },
  "language_info": {
   "codemirror_mode": {
    "name": "ipython",
    "version": 3
   },
   "file_extension": ".py",
   "mimetype": "text/x-python",
   "name": "python",
   "nbconvert_exporter": "python",
   "pygments_lexer": "ipython3",
   "version": "3.13.2"
  }
 },
 "nbformat": 4,
 "nbformat_minor": 5
}
