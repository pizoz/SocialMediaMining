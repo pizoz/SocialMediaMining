{
 "cells": [
  {
   "cell_type": "code",
   "execution_count": 6,
   "id": "9cc7a05d",
   "metadata": {},
   "outputs": [],
   "source": [
    "from googleapiclient.discovery import build\n",
    "import csv\n",
    "import matplotlib.pyplot as plt\n",
    "from datetime import datetime, timedelta\n",
    "import scipy\n",
    "import networkx as nx\n",
    "from itertools import combinations\n",
    "import math\n",
    "import numpy as np\n",
    "from statsmodels.distributions.empirical_distribution import ECDF\n",
    "import json"
   ]
  },
  {
   "cell_type": "code",
   "execution_count": 2,
   "id": "a90121cb",
   "metadata": {},
   "outputs": [],
   "source": [
    "DEVELOPER_KEY = open(\"../esercizi_classe/api_key.txt\").read()\n",
    "YOUTUBE_API_SERVICE_NAME = \"youtube\"\n",
    "YOUTUBE_API_VERSION = \"v3\"\n",
    "youtube = build(YOUTUBE_API_SERVICE_NAME, YOUTUBE_API_VERSION, developerKey=DEVELOPER_KEY)"
   ]
  },
  {
   "cell_type": "markdown",
   "id": "6cb57569",
   "metadata": {},
   "source": [
    "Canali Youtube su cui verte la ricerca"
   ]
  },
  {
   "cell_type": "code",
   "execution_count": 3,
   "id": "38fea96f",
   "metadata": {},
   "outputs": [],
   "source": [
    "channels = [\"Romeo Agresti\", \"Il BiancoNero\", \"Colpo Gobbo\",\"Luca Toselli\",\"lAngolodiKinoshi\"]"
   ]
  },
  {
   "cell_type": "markdown",
   "id": "77db8c1e",
   "metadata": {},
   "source": [
    "Reperimento dei video pubblicati fra il 7 luglio 2024 al 24 marzo 2025"
   ]
  },
  {
   "cell_type": "code",
   "execution_count": null,
   "id": "fa369bc8",
   "metadata": {},
   "outputs": [],
   "source": [
    "def getIDfromName(name):\n",
    "    request = youtube.search().list(\n",
    "        part=\"snippet\",\n",
    "        q=name,\n",
    "        type=\"channel\",\n",
    "        maxResults=5\n",
    "    )\n",
    "    response = request.execute()\n",
    "    return response['items'][0]['id']['channelId']\n",
    "\n",
    "def getChannelPlaylist(channel_id):\n",
    "    request = youtube.channels().list(\n",
    "        part=\"snippet,contentDetails\",\n",
    "        id=channel_id\n",
    "    )\n",
    "    response = request.execute()\n",
    "    return response['items'][0]['contentDetails']['relatedPlaylists']['uploads']\n",
    "\n",
    "def get_videos_from_channel(playlist_id,channel_name):\n",
    "    begin_date = datetime(2024,7,7)\n",
    "    end_date = datetime(2025,3,24)\n",
    "    video_ids_and_dates = []\n",
    "    next_page_token = None\n",
    "    while True:\n",
    "        request = youtube.playlistItems().list(\n",
    "            part=\"snippet\",\n",
    "            playlistId=playlist_id,\n",
    "            maxResults=50,\n",
    "            pageToken=next_page_token\n",
    "        )\n",
    "        response = request.execute()\n",
    "        for item in response['items']:\n",
    "            video_date = datetime.strptime(item['snippet']['publishedAt'], \"%Y-%m-%dT%H:%M:%SZ\")\n",
    "            if begin_date <= video_date <= end_date:\n",
    "                video_ids_and_dates.append((item['snippet']['resourceId']['videoId'], video_date))\n",
    "        next_page_token = response.get('nextPageToken')\n",
    "        if not next_page_token:\n",
    "            break\n",
    "    with open(f\"video_ids_{channel_name}.csv\", \"w\", newline='') as csvfile:\n",
    "        writer = csv.writer(csvfile)\n",
    "        for video_id in video_ids_and_dates:\n",
    "            writer.writerow([video_id[0],video_id[1].strftime(\"%Y-%m-%d\")])\n",
    "    print(f\"Video IDs for {channel_name} saved to video_ids_{channel_name}.csv\")\n",
    "\n",
    "def get_csv_files(channels):\n",
    "    for channel in channels:\n",
    "        channel_id = getIDfromName(channel)\n",
    "        playlist_id = getChannelPlaylist(channel_id)\n",
    "        get_videos_from_channel(playlist_id,channel)"
   ]
  },
  {
   "cell_type": "code",
   "execution_count": null,
   "id": "4ff5535a",
   "metadata": {},
   "outputs": [],
   "source": [
    "get_csv_files(channels)"
   ]
  },
  {
   "cell_type": "markdown",
   "id": "7aa950c2",
   "metadata": {},
   "source": [
    "Reperimento dei commenti dai video selezionati"
   ]
  },
  {
   "cell_type": "code",
   "execution_count": 4,
   "id": "1b5f5694",
   "metadata": {},
   "outputs": [],
   "source": [
    "class Comment:\n",
    "    def __init__(self, id, video_id, content, author,date, likes, reply_to_id=None):\n",
    "        self.id = id\n",
    "        self.video_id = video_id\n",
    "        self.content = content\n",
    "        self.author = author\n",
    "        self.date = date\n",
    "        self.likes = likes\n",
    "        self.reply_to_id = reply_to_id"
   ]
  },
  {
   "cell_type": "code",
   "execution_count": 5,
   "id": "9d8c17e6",
   "metadata": {},
   "outputs": [],
   "source": [
    "def get_comments_one_vid(video_id):\n",
    "    comments = []\n",
    "    request = youtube.commentThreads().list(\n",
    "        part=\"snippet,replies\",\n",
    "        videoId=video_id,\n",
    "        textFormat=\"plainText\",\n",
    "        maxResults=100\n",
    "    )\n",
    "    response = request.execute()\n",
    "    comments.extend(get_comments_from_response(response[\"items\"]))\n",
    "    next_page_token = response.get(\"nextPageToken\", None)\n",
    "    while next_page_token:\n",
    "        request = youtube.commentThreads().list(\n",
    "            part=\"snippet,replies\",\n",
    "            videoId=video_id,\n",
    "            textFormat=\"plainText\",\n",
    "            maxResults=100,\n",
    "            pageToken=next_page_token\n",
    "        )\n",
    "        response = request.execute()\n",
    "        comments.extend(get_comments_from_response(response[\"items\"]))\n",
    "        next_page_token = response.get(\"nextPageToken\", None)\n",
    "    return comments\n",
    "\n",
    "def get_comments_from_response(items):\n",
    "    comments = []\n",
    "    for item in items:\n",
    "        main_comment = item[\"snippet\"][\"topLevelComment\"]\n",
    "        comment_id = main_comment[\"id\"]\n",
    "        video_id = item[\"snippet\"][\"videoId\"]\n",
    "        author = main_comment[\"snippet\"][\"authorDisplayName\"]\n",
    "        content = main_comment[\"snippet\"][\"textDisplay\"]\n",
    "        date = datetime.strptime(main_comment[\"snippet\"][\"publishedAt\"], \"%Y-%m-%dT%H:%M:%SZ\")\n",
    "        likes = main_comment[\"snippet\"][\"likeCount\"]\n",
    "        comments.append(Comment(comment_id, video_id, content, author, date, likes))\n",
    "        if \"replies\" in item:\n",
    "            for reply in item[\"replies\"][\"comments\"]:\n",
    "                reply_id = reply[\"id\"]\n",
    "                reply_content = reply[\"snippet\"][\"textDisplay\"]\n",
    "                reply_author = reply[\"snippet\"][\"authorDisplayName\"]\n",
    "                reply_date = datetime.strptime(reply[\"snippet\"][\"publishedAt\"], \"%Y-%m-%dT%H:%M:%SZ\")\n",
    "                reply_likes = reply[\"snippet\"][\"likeCount\"]\n",
    "                comments.append(Comment(reply_id, video_id, reply_content, reply_author, reply_date, reply_likes, comment_id))\n",
    "    return comments\n",
    "\n",
    "def save_comments_csv(comments, channel_name):\n",
    "    with open(f\"comments_{channel_name}.csv\", \"w\", newline='', encoding='utf-8') as csvfile:\n",
    "        writer = csv.writer(csvfile)\n",
    "        writer.writerow([\"Comment ID\", \"Video ID\", \"Content\", \"Author\", \"Date\", \"Likes\", \"Reply To ID\"])\n",
    "        for comment in comments:\n",
    "            writer.writerow([comment.id, comment.video_id, comment.content, comment.author, comment.date.strftime(\"%Y-%m-%d\"), comment.likes, comment.reply_to_id])\n",
    "    print(f\"Comments for {channel_name} saved to comments_{channel_name}.csv\")\n",
    "\n",
    "def get_comments_from_csv_file(channel):\n",
    "    with open(f\"video_ids_{channel}.csv\", \"r\") as csvfile:\n",
    "        reader = csv.reader(csvfile)\n",
    "        video_ids = [row[0] for row in reader]\n",
    "    all_comments = []\n",
    "    for video_id in video_ids:\n",
    "        comments = get_comments_one_vid(video_id)\n",
    "        all_comments.extend(comments)\n",
    "    save_comments_csv(all_comments, channel)"
   ]
  },
  {
   "cell_type": "code",
   "execution_count": null,
   "id": "01c604ad",
   "metadata": {},
   "outputs": [],
   "source": [
    "for channel in channels:\n",
    "    get_comments_from_csv_file(channel)"
   ]
  },
  {
   "cell_type": "code",
   "execution_count": 8,
   "id": "8fe3419e",
   "metadata": {},
   "outputs": [],
   "source": [
    "matches = json.load(open(\"../progetto/matches.json\"))"
   ]
  },
  {
   "cell_type": "code",
   "execution_count": 9,
   "id": "261fd474",
   "metadata": {},
   "outputs": [
    {
     "name": "stdout",
     "output_type": "stream",
     "text": [
      "Date format converted successfully!\n",
      "Total matches processed: 47\n",
      "\n",
      "First 5 matches with new date format:\n",
      "1. 2024-07-26 - Norimberga-Juventus (3-0)\n",
      "2. 2024-08-03 - Juventus-Brest (2-2)\n",
      "3. 2024-08-06 - Juventus-Juve Next Gen (4-0)\n",
      "4. 2024-08-11 - Atletico Madrid-Juventus (2-0)\n",
      "5. 2024-08-19 - Juventus-Como (3-0)\n"
     ]
    }
   ],
   "source": [
    "# Convert date format in matches.json from DD.MM.YYYY to YYYY-MM-DD\n",
    "from datetime import datetime\n",
    "\n",
    "# Convert date format function\n",
    "def convert_date_format(date_string):\n",
    "    \"\"\"Convert date from DD.MM.YYYY to YYYY-MM-DD format\"\"\"\n",
    "    # Parse the date in DD.MM.YYYY format\n",
    "    date_obj = datetime.strptime(date_string, \"%d.%m.%Y\")\n",
    "    # Return in YYYY-MM-DD format\n",
    "    return date_obj.strftime(\"%Y-%m-%d\")\n",
    "\n",
    "# Convert all dates in matches\n",
    "for match in matches:\n",
    "    match[\"data\"] = convert_date_format(match[\"data\"])\n",
    "\n",
    "# Save the updated matches back to JSON file\n",
    "with open(\"../progetto/matches.json\", \"w\", encoding='utf-8') as f:\n",
    "    json.dump(matches, f, ensure_ascii=False, indent=2)\n",
    "\n",
    "print(\"Date format converted successfully!\")\n",
    "print(f\"Total matches processed: {len(matches)}\")\n",
    "print(\"\\nFirst 5 matches with new date format:\")\n",
    "for i, match in enumerate(matches[:5]):\n",
    "    print(f\"{i+1}. {match['data']} - {match['partita']} ({match['risultato']})\")"
   ]
  },
  {
   "cell_type": "code",
   "execution_count": 49,
   "id": "4fbfa00b",
   "metadata": {},
   "outputs": [
    {
     "name": "stdout",
     "output_type": "stream",
     "text": [
      "Total matches: 47\n",
      "Wins: 20 | Losses: 9 | Draws: 18\n",
      "Win rate: 42.6%\n",
      "Date range: 2024-07-26 to 2025-03-16\n",
      "Time span: 233 days\n"
     ]
    },
    {
     "data": {
      "image/png": "[encoded data removed]",
      "text/plain": [
       "<Figure size 1600x600 with 1 Axes>"
      ]
     },
     "metadata": {},
     "output_type": "display_data"
    }
   ],
   "source": [
    "import matplotlib.pyplot as plt\n",
    "import matplotlib.dates as mdates\n",
    "from datetime import datetime\n",
    "import pandas as pd\n",
    "\n",
    "df_matches = pd.DataFrame(matches)\n",
    "\n",
    "df_matches['date_obj'] = pd.to_datetime(df_matches['data'])\n",
    "\n",
    "df_matches = df_matches.sort_values('date_obj')\n",
    "\n",
    "\n",
    "def get_match_color(partita, risultato):\n",
    "    \n",
    "    scores = risultato.split('-')\n",
    "    try:\n",
    "        score1 = int(scores[0])\n",
    "        score2 = int(scores[1])\n",
    "    except ValueError:\n",
    "        return 'gray'\n",
    "    \n",
    "    if 'Juventus' in partita.split('-')[0]:\n",
    "        juventus_score = score1\n",
    "        opponent_score = score2\n",
    "    else:\n",
    "        juventus_score = score2\n",
    "        opponent_score = score1\n",
    "    \n",
    "    if juventus_score > opponent_score:\n",
    "        return 'green'\n",
    "    elif juventus_score < opponent_score:\n",
    "        return 'red'\n",
    "    else:\n",
    "        return 'gray'\n",
    "\n",
    "df_matches['color'] = df_matches.apply(lambda row: get_match_color(row['partita'], row['risultato']), axis=1)\n",
    "\n",
    "fig, ax = plt.subplots(figsize=(16, 6))\n",
    "\n",
    "y_position = 0\n",
    "for i, row in df_matches.iterrows():\n",
    "    ax.scatter(row['date_obj'], y_position, s=120, alpha=1, color=row['color'], edgecolors='black', linewidth=0.5, zorder=100,marker='s')\n",
    "\n",
    "ax.set_ylim(0, 0.3)\n",
    "ax.set_xlabel('Date', fontsize=12, fontweight='bold')\n",
    "ax.set_title('Juventus Matches Timeline (July 2024 - March 2025)', fontsize=14, fontweight='bold')\n",
    "\n",
    "ax.xaxis.set_major_formatter(mdates.DateFormatter('%Y-%m-%d'))\n",
    "ax.xaxis.set_major_locator(mdates.WeekdayLocator(interval=2))  # Show every 2 weeks\n",
    "plt.xticks(rotation=45)\n",
    "\n",
    "ax.set_yticks([])\n",
    "ax.set_ylabel('')\n",
    "for spine in ax.spines.values():\n",
    "    spine.set_zorder(0.5)\n",
    "ax.grid(True, axis='x', alpha=0.3, zorder=2)\n",
    "\n",
    "\n",
    "from matplotlib.patches import Patch\n",
    "legend_elements = [Patch(facecolor='green', label='Juventus Win'),\n",
    "                   Patch(facecolor='red', label='Juventus Loss'),\n",
    "                   Patch(facecolor='gray', label='Draw')]\n",
    "ax.legend(handles=legend_elements, loc='upper right')\n",
    "\n",
    "\n",
    "plt.tight_layout()\n",
    "\n",
    "\n",
    "wins = len(df_matches[df_matches['color'] == 'green'])\n",
    "losses = len(df_matches[df_matches['color'] == 'red'])\n",
    "draws = len(df_matches[df_matches['color'] == 'gray'])\n",
    "\n",
    "print(f\"Total matches: {len(df_matches)}\")\n",
    "print(f\"Wins: {wins} | Losses: {losses} | Draws: {draws}\")\n",
    "print(f\"Win rate: {wins/len(df_matches)*100:.1f}%\")\n",
    "print(f\"Date range: {df_matches['data'].min()} to {df_matches['data'].max()}\")\n",
    "print(f\"Time span: {(df_matches['date_obj'].max() - df_matches['date_obj'].min()).days} days\")\n",
    "\n",
    "plt.show()"
   ]
  },
  {
   "cell_type": "code",
   "execution_count": null,
   "id": "218232b4",
   "metadata": {},
   "outputs": [],
   "source": [
    "#simulate sentiiment analysis per day\n",
    "def simulate_sentiment_analysis_per_day(comments, start_date, end_date):\n",
    "    date_range = pd.date_range(start=start_date, end=end_date)\n",
    "    sentiment_scores = {date: 0 for date in date_range}\n",
    "    \n",
    "    for comment in comments:\n",
    "        comment_date = comment.date.date()\n",
    "        if start_date <= comment_date <= end_date:\n",
    "            sentiment_scores[comment_date] += comment.likes  # Using likes as a proxy for sentiment\n",
    "    \n",
    "    return sentiment_scores"
   ]
  }
 ],
 "metadata": {
  "kernelspec": {
   "display_name": ".venv",
   "language": "python",
   "name": "python3"
  },
  "language_info": {
   "codemirror_mode": {
    "name": "ipython",
    "version": 3
   },
   "file_extension": ".py",
   "mimetype": "text/x-python",
   "name": "python",
   "nbconvert_exporter": "python",
   "pygments_lexer": "ipython3",
   "version": "3.13.2"
  }
 },
 "nbformat": 4,
 "nbformat_minor": 5
}
