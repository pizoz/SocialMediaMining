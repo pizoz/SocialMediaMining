{
 "cells": [
  {
   "cell_type": "code",
   "execution_count": 6,
   "id": "9cc7a05d",
   "metadata": {},
   "outputs": [],
   "source": [
    "from googleapiclient.discovery import build\n",
    "import csv\n",
    "import matplotlib.pyplot as plt\n",
    "from datetime import datetime, timedelta\n",
    "import scipy\n",
    "import networkx as nx\n",
    "from itertools import combinations\n",
    "import math\n",
    "import numpy as np\n",
    "from statsmodels.distributions.empirical_distribution import ECDF\n",
    "import json"
   ]
  },
  {
   "cell_type": "code",
   "execution_count": 2,
   "id": "a90121cb",
   "metadata": {},
   "outputs": [],
   "source": [
    "DEVELOPER_KEY = open(\"../esercizi_classe/api_key.txt\").read()\n",
    "YOUTUBE_API_SERVICE_NAME = \"youtube\"\n",
    "YOUTUBE_API_VERSION = \"v3\"\n",
    "youtube = build(YOUTUBE_API_SERVICE_NAME, YOUTUBE_API_VERSION, developerKey=DEVELOPER_KEY)"
   ]
  },
  {
   "cell_type": "markdown",
   "id": "6cb57569",
   "metadata": {},
   "source": [
    "Canali Youtube su cui verte la ricerca"
   ]
  },
  {
   "cell_type": "code",
   "execution_count": 3,
   "id": "38fea96f",
   "metadata": {},
   "outputs": [],
   "source": [
    "channels = [\"Romeo Agresti\", \"Il BiancoNero\", \"Colpo Gobbo\",\"Luca Toselli\",\"lAngolodiKinoshi\"]"
   ]
  },
  {
   "cell_type": "markdown",
   "id": "77db8c1e",
   "metadata": {},
   "source": [
    "Reperimento dei video pubblicati fra il 7 luglio 2024 al 24 marzo 2025"
   ]
  },
  {
   "cell_type": "code",
   "execution_count": null,
   "id": "fa369bc8",
   "metadata": {},
   "outputs": [],
   "source": [
    "def getIDfromName(name):\n",
    "    request = youtube.search().list(\n",
    "        part=\"snippet\",\n",
    "        q=name,\n",
    "        type=\"channel\",\n",
    "        maxResults=5\n",
    "    )\n",
    "    response = request.execute()\n",
    "    return response['items'][0]['id']['channelId']\n",
    "\n",
    "def getChannelPlaylist(channel_id):\n",
    "    request = youtube.channels().list(\n",
    "        part=\"snippet,contentDetails\",\n",
    "        id=channel_id\n",
    "    )\n",
    "    response = request.execute()\n",
    "    return response['items'][0]['contentDetails']['relatedPlaylists']['uploads']\n",
    "\n",
    "def get_videos_from_channel(playlist_id,channel_name):\n",
    "    begin_date = datetime(2024,7,7)\n",
    "    end_date = datetime(2025,3,24)\n",
    "    video_ids_and_dates = []\n",
    "    next_page_token = None\n",
    "    while True:\n",
    "        request = youtube.playlistItems().list(\n",
    "            part=\"snippet\",\n",
    "            playlistId=playlist_id,\n",
    "            maxResults=50,\n",
    "            pageToken=next_page_token\n",
    "        )\n",
    "        response = request.execute()\n",
    "        for item in response['items']:\n",
    "            video_date = datetime.strptime(item['snippet']['publishedAt'], \"%Y-%m-%dT%H:%M:%SZ\")\n",
    "            if begin_date <= video_date <= end_date:\n",
    "                video_ids_and_dates.append((item['snippet']['resourceId']['videoId'], video_date))\n",
    "        next_page_token = response.get('nextPageToken')\n",
    "        if not next_page_token:\n",
    "            break\n",
    "    with open(f\"video_ids_{channel_name}.csv\", \"w\", newline='') as csvfile:\n",
    "        writer = csv.writer(csvfile)\n",
    "        for video_id in video_ids_and_dates:\n",
    "            writer.writerow([video_id[0],video_id[1].strftime(\"%Y-%m-%d\")])\n",
    "    print(f\"Video IDs for {channel_name} saved to video_ids_{channel_name}.csv\")\n",
    "\n",
    "def get_csv_files(channels):\n",
    "    for channel in channels:\n",
    "        channel_id = getIDfromName(channel)\n",
    "        playlist_id = getChannelPlaylist(channel_id)\n",
    "        get_videos_from_channel(playlist_id,channel)"
   ]
  },
  {
   "cell_type": "code",
   "execution_count": null,
   "id": "4ff5535a",
   "metadata": {},
   "outputs": [],
   "source": [
    "get_csv_files(channels)"
   ]
  },
  {
   "cell_type": "markdown",
   "id": "7aa950c2",
   "metadata": {},
   "source": [
    "Reperimento dei commenti dai video selezionati"
   ]
  },
  {
   "cell_type": "code",
   "execution_count": 4,
   "id": "1b5f5694",
   "metadata": {},
   "outputs": [],
   "source": [
    "class Comment:\n",
    "    def __init__(self, id, video_id, content, author,date, likes, reply_to_id=None):\n",
    "        self.id = id\n",
    "        self.video_id = video_id\n",
    "        self.content = content\n",
    "        self.author = author\n",
    "        self.date = date\n",
    "        self.likes = likes\n",
    "        self.reply_to_id = reply_to_id"
   ]
  },
  {
   "cell_type": "code",
   "execution_count": 5,
   "id": "9d8c17e6",
   "metadata": {},
   "outputs": [],
   "source": [
    "def get_comments_one_vid(video_id):\n",
    "    comments = []\n",
    "    request = youtube.commentThreads().list(\n",
    "        part=\"snippet,replies\",\n",
    "        videoId=video_id,\n",
    "        textFormat=\"plainText\",\n",
    "        maxResults=100\n",
    "    )\n",
    "    response = request.execute()\n",
    "    comments.extend(get_comments_from_response(response[\"items\"]))\n",
    "    next_page_token = response.get(\"nextPageToken\", None)\n",
    "    while next_page_token:\n",
    "        request = youtube.commentThreads().list(\n",
    "            part=\"snippet,replies\",\n",
    "            videoId=video_id,\n",
    "            textFormat=\"plainText\",\n",
    "            maxResults=100,\n",
    "            pageToken=next_page_token\n",
    "        )\n",
    "        response = request.execute()\n",
    "        comments.extend(get_comments_from_response(response[\"items\"]))\n",
    "        next_page_token = response.get(\"nextPageToken\", None)\n",
    "    return comments\n",
    "\n",
    "def get_comments_from_response(items):\n",
    "    comments = []\n",
    "    for item in items:\n",
    "        main_comment = item[\"snippet\"][\"topLevelComment\"]\n",
    "        comment_id = main_comment[\"id\"]\n",
    "        video_id = item[\"snippet\"][\"videoId\"]\n",
    "        author = main_comment[\"snippet\"][\"authorDisplayName\"]\n",
    "        content = main_comment[\"snippet\"][\"textDisplay\"]\n",
    "        date = datetime.strptime(main_comment[\"snippet\"][\"publishedAt\"], \"%Y-%m-%dT%H:%M:%SZ\")\n",
    "        likes = main_comment[\"snippet\"][\"likeCount\"]\n",
    "        comments.append(Comment(comment_id, video_id, content, author, date, likes))\n",
    "        if \"replies\" in item:\n",
    "            for reply in item[\"replies\"][\"comments\"]:\n",
    "                reply_id = reply[\"id\"]\n",
    "                reply_content = reply[\"snippet\"][\"textDisplay\"]\n",
    "                reply_author = reply[\"snippet\"][\"authorDisplayName\"]\n",
    "                reply_date = datetime.strptime(reply[\"snippet\"][\"publishedAt\"], \"%Y-%m-%dT%H:%M:%SZ\")\n",
    "                reply_likes = reply[\"snippet\"][\"likeCount\"]\n",
    "                comments.append(Comment(reply_id, video_id, reply_content, reply_author, reply_date, reply_likes, comment_id))\n",
    "    return comments\n",
    "\n",
    "def save_comments_csv(comments, channel_name):\n",
    "    with open(f\"comments_{channel_name}.csv\", \"w\", newline='', encoding='utf-8') as csvfile:\n",
    "        writer = csv.writer(csvfile)\n",
    "        writer.writerow([\"Comment ID\", \"Video ID\", \"Content\", \"Author\", \"Date\", \"Likes\", \"Reply To ID\"])\n",
    "        for comment in comments:\n",
    "            writer.writerow([comment.id, comment.video_id, comment.content, comment.author, comment.date.strftime(\"%Y-%m-%d\"), comment.likes, comment.reply_to_id])\n",
    "    print(f\"Comments for {channel_name} saved to comments_{channel_name}.csv\")\n",
    "\n",
    "def get_comments_from_csv_file(channel):\n",
    "    with open(f\"video_ids_{channel}.csv\", \"r\") as csvfile:\n",
    "        reader = csv.reader(csvfile)\n",
    "        video_ids = [row[0] for row in reader]\n",
    "    all_comments = []\n",
    "    for video_id in video_ids:\n",
    "        comments = get_comments_one_vid(video_id)\n",
    "        all_comments.extend(comments)\n",
    "    save_comments_csv(all_comments, channel)"
   ]
  },
  {
   "cell_type": "code",
   "execution_count": null,
   "id": "01c604ad",
   "metadata": {},
   "outputs": [],
   "source": [
    "for channel in channels:\n",
    "    get_comments_from_csv_file(channel)"
   ]
  },
  {
   "cell_type": "code",
   "execution_count": 8,
   "id": "8fe3419e",
   "metadata": {},
   "outputs": [],
   "source": [
    "matches = json.load(open(\"../progetto/matches.json\"))"
   ]
  },
  {
   "cell_type": "code",
   "execution_count": null,
   "id": "261fd474",
   "metadata": {},
   "outputs": [],
   "source": [
    "\n",
    "from datetime import datetime\n",
    "\n",
    "def convert_date_format(date_string):\n",
    "    \"\"\"Convert date from DD.MM.YYYY to YYYY-MM-DD format\"\"\"\n",
    "    # Parse the date in DD.MM.YYYY format\n",
    "    date_obj = datetime.strptime(date_string, \"%d.%m.%Y\")\n",
    "    # Return in YYYY-MM-DD format\n",
    "    return date_obj.strftime(\"%Y-%m-%d\")\n",
    "\n",
    "for match in matches:\n",
    "    match[\"data\"] = convert_date_format(match[\"data\"])\n",
    "\n",
    "with open(\"../progetto/matches.json\", \"w\", encoding='utf-8') as f:\n",
    "    json.dump(matches, f, ensure_ascii=False, indent=2)\n",
    "\n",
    "print(\"Date format converted successfully!\")\n",
    "print(f\"Total matches processed: {len(matches)}\")\n",
    "print(\"\\nFirst 5 matches with new date format:\")\n",
    "for i, match in enumerate(matches[:5]):\n",
    "    print(f\"{i+1}. {match['data']} - {match['partita']} ({match['risultato']})\")"
   ]
  }
 ],
 "metadata": {
  "kernelspec": {
   "display_name": ".venv",
   "language": "python",
   "name": "python3"
  },
  "language_info": {
   "codemirror_mode": {
    "name": "ipython",
    "version": 3
   },
   "file_extension": ".py",
   "mimetype": "text/x-python",
   "name": "python",
   "nbconvert_exporter": "python",
   "pygments_lexer": "ipython3",
   "version": "3.13.2"
  }
 },
 "nbformat": 4,
 "nbformat_minor": 5
}
